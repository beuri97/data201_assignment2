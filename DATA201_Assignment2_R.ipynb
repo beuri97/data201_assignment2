{
 "cells": [
  {
   "cell_type": "markdown",
   "id": "12fbb2e5",
   "metadata": {},
   "source": [
    "<h1><center>DATA201 ASSIGNMENT 2</center></h1>"
   ]
  },
  {
   "cell_type": "markdown",
   "id": "a959d247",
   "metadata": {},
   "source": [
    "ALZEN PUNIO 11224000<br>\n",
    "HANBYEOL YANG 14868742"
   ]
  },
  {
   "cell_type": "code",
   "execution_count": 1,
   "id": "c9a3c950",
   "metadata": {},
   "outputs": [
    {
     "name": "stderr",
     "output_type": "stream",
     "text": [
      "-- \u001b[1mAttaching packages\u001b[22m --------------------------------------- tidyverse 1.3.2 --\n",
      "\u001b[32mv\u001b[39m \u001b[34mggplot2\u001b[39m 3.3.6     \u001b[32mv\u001b[39m \u001b[34mpurrr  \u001b[39m 0.3.4\n",
      "\u001b[32mv\u001b[39m \u001b[34mtibble \u001b[39m 3.1.8     \u001b[32mv\u001b[39m \u001b[34mdplyr  \u001b[39m 1.0.9\n",
      "\u001b[32mv\u001b[39m \u001b[34mtidyr  \u001b[39m 1.2.0     \u001b[32mv\u001b[39m \u001b[34mstringr\u001b[39m 1.4.0\n",
      "\u001b[32mv\u001b[39m \u001b[34mreadr  \u001b[39m 2.1.2     \u001b[32mv\u001b[39m \u001b[34mforcats\u001b[39m 0.5.1\n",
      "-- \u001b[1mConflicts\u001b[22m ------------------------------------------ tidyverse_conflicts() --\n",
      "\u001b[31mx\u001b[39m \u001b[34mdplyr\u001b[39m::\u001b[32mfilter()\u001b[39m masks \u001b[34mstats\u001b[39m::filter()\n",
      "\u001b[31mx\u001b[39m \u001b[34mdplyr\u001b[39m::\u001b[32mlag()\u001b[39m    masks \u001b[34mstats\u001b[39m::lag()\n"
     ]
    }
   ],
   "source": [
    "library(tidyverse)"
   ]
  },
  {
   "cell_type": "code",
   "execution_count": 2,
   "id": "164f9fb8",
   "metadata": {},
   "outputs": [
    {
     "name": "stderr",
     "output_type": "stream",
     "text": [
      "\n",
      "Attaching package: 'magrittr'\n",
      "\n",
      "\n",
      "The following object is masked from 'package:purrr':\n",
      "\n",
      "    set_names\n",
      "\n",
      "\n",
      "The following object is masked from 'package:tidyr':\n",
      "\n",
      "    extract\n",
      "\n",
      "\n"
     ]
    }
   ],
   "source": [
    "library(magrittr) \n",
    "library(purrr) \n",
    "library(glue) \n",
    "library(stringr) "
   ]
  },
  {
   "cell_type": "code",
   "execution_count": 63,
   "id": "6a994634",
   "metadata": {},
   "outputs": [],
   "source": [
    "library(rvest) \n",
    "library(polite) \n",
    "library(xml2)\n",
    "library(repr)"
   ]
  },
  {
   "cell_type": "markdown",
   "id": "aaa362a2",
   "metadata": {},
   "source": [
    "<h2>TASK (A) SCRAPE IT</h2>"
   ]
  },
  {
   "cell_type": "code",
   "execution_count": 4,
   "id": "d5853ca9",
   "metadata": {},
   "outputs": [],
   "source": [
    "# URL of Games of All Time from metacritic.\n",
    "url <- \"https://www.metacritic.com/browse/games/score/metascore/all/all/filtered\""
   ]
  },
  {
   "cell_type": "code",
   "execution_count": 5,
   "id": "1784f312",
   "metadata": {
    "scrolled": true
   },
   "outputs": [
    {
     "data": {
      "text/plain": [
       "<polite session> https://www.metacritic.com/browse/games/score/metascore/all/all/filtered\n",
       "    User-agent: polite R package\n",
       "    robots.txt: 7 rules are defined for 1 bots\n",
       "   Crawl delay: 5 sec\n",
       "  The path is scrapable for this user-agent"
      ]
     },
     "metadata": {},
     "output_type": "display_data"
    }
   ],
   "source": [
    "# Asking for permission to scrape the metacritic site.\n",
    "session <- url %>% \n",
    "    bow()\n",
    "session"
   ]
  },
  {
   "cell_type": "code",
   "execution_count": 6,
   "id": "64940921",
   "metadata": {},
   "outputs": [
    {
     "data": {
      "text/plain": [
       "{html_document}\n",
       "<html xmlns:og=\"http://opengraphprotocol.org/schema/\" xmlns:fb=\"http://ogp.me/ns/fb#\">\n",
       "[1] <head>\\n<title>Best Video Games of All Time - Metacritic</title>\\n<meta h ...\n",
       "[2] <body class=\"skybox-auto-collapse\">\\n\\n     \\n    <div id=\"nav_ad_wrapper ..."
      ]
     },
     "metadata": {},
     "output_type": "display_data"
    }
   ],
   "source": [
    "# Read and print the content of metacritic's Games of All Time page.\n",
    "games <- url %>% \n",
    "  read_html()\n",
    "games"
   ]
  },
  {
   "cell_type": "code",
   "execution_count": 8,
   "id": "c9f267e4",
   "metadata": {
    "scrolled": true
   },
   "outputs": [
    {
     "data": {
      "text/html": [
       "<style>\n",
       ".list-inline {list-style: none; margin:0; padding: 0}\n",
       ".list-inline>li {display: inline-block}\n",
       ".list-inline>li:not(:last-child)::after {content: \"\\00b7\"; padding: 0 .5ex}\n",
       "</style>\n",
       "<ol class=list-inline><li>'The Legend of Zelda: Ocarina of Time'</li><li>'Tony Hawk\\'s Pro Skater 2'</li><li>'Grand Theft Auto IV'</li><li>'SoulCalibur'</li><li>'Grand Theft Auto IV'</li><li>'Super Mario Galaxy'</li></ol>\n"
      ],
      "text/latex": [
       "\\begin{enumerate*}\n",
       "\\item 'The Legend of Zelda: Ocarina of Time'\n",
       "\\item 'Tony Hawk\\textbackslash{}'s Pro Skater 2'\n",
       "\\item 'Grand Theft Auto IV'\n",
       "\\item 'SoulCalibur'\n",
       "\\item 'Grand Theft Auto IV'\n",
       "\\item 'Super Mario Galaxy'\n",
       "\\end{enumerate*}\n"
      ],
      "text/markdown": [
       "1. 'The Legend of Zelda: Ocarina of Time'\n",
       "2. 'Tony Hawk\\'s Pro Skater 2'\n",
       "3. 'Grand Theft Auto IV'\n",
       "4. 'SoulCalibur'\n",
       "5. 'Grand Theft Auto IV'\n",
       "6. 'Super Mario Galaxy'\n",
       "\n",
       "\n"
      ],
      "text/plain": [
       "[1] \"The Legend of Zelda: Ocarina of Time\"\n",
       "[2] \"Tony Hawk's Pro Skater 2\"            \n",
       "[3] \"Grand Theft Auto IV\"                 \n",
       "[4] \"SoulCalibur\"                         \n",
       "[5] \"Grand Theft Auto IV\"                 \n",
       "[6] \"Super Mario Galaxy\"                  "
      ]
     },
     "metadata": {},
     "output_type": "display_data"
    }
   ],
   "source": [
    "# Finds all the h3 element under the .title class which is under .clamp-summary-wrap class.\n",
    "# Then extract the raw text inside the h3 element. Assign the result as titles.\n",
    "titles <- games %>% \n",
    "  html_nodes(\".clamp-summary-wrap > .title > h3\") %>% \n",
    "  html_text()\n",
    "titles %>% \n",
    "    head()"
   ]
  },
  {
   "cell_type": "code",
   "execution_count": 9,
   "id": "ad51f57e",
   "metadata": {},
   "outputs": [
    {
     "data": {
      "text/html": [
       "<style>\n",
       ".list-inline {list-style: none; margin:0; padding: 0}\n",
       ".list-inline>li {display: inline-block}\n",
       ".list-inline>li:not(:last-child)::after {content: \"\\00b7\"; padding: 0 .5ex}\n",
       "</style>\n",
       "<ol class=list-inline><li>'/game/nintendo-64/the-legend-of-zelda-ocarina-of-time'</li><li>'/game/playstation/tony-hawks-pro-skater-2'</li><li>'/game/playstation-3/grand-theft-auto-iv'</li><li>'/game/dreamcast/soulcalibur'</li><li>'/game/xbox-360/grand-theft-auto-iv'</li><li>'/game/wii/super-mario-galaxy'</li></ol>\n"
      ],
      "text/latex": [
       "\\begin{enumerate*}\n",
       "\\item '/game/nintendo-64/the-legend-of-zelda-ocarina-of-time'\n",
       "\\item '/game/playstation/tony-hawks-pro-skater-2'\n",
       "\\item '/game/playstation-3/grand-theft-auto-iv'\n",
       "\\item '/game/dreamcast/soulcalibur'\n",
       "\\item '/game/xbox-360/grand-theft-auto-iv'\n",
       "\\item '/game/wii/super-mario-galaxy'\n",
       "\\end{enumerate*}\n"
      ],
      "text/markdown": [
       "1. '/game/nintendo-64/the-legend-of-zelda-ocarina-of-time'\n",
       "2. '/game/playstation/tony-hawks-pro-skater-2'\n",
       "3. '/game/playstation-3/grand-theft-auto-iv'\n",
       "4. '/game/dreamcast/soulcalibur'\n",
       "5. '/game/xbox-360/grand-theft-auto-iv'\n",
       "6. '/game/wii/super-mario-galaxy'\n",
       "\n",
       "\n"
      ],
      "text/plain": [
       "[1] \"/game/nintendo-64/the-legend-of-zelda-ocarina-of-time\"\n",
       "[2] \"/game/playstation/tony-hawks-pro-skater-2\"            \n",
       "[3] \"/game/playstation-3/grand-theft-auto-iv\"              \n",
       "[4] \"/game/dreamcast/soulcalibur\"                          \n",
       "[5] \"/game/xbox-360/grand-theft-auto-iv\"                   \n",
       "[6] \"/game/wii/super-mario-galaxy\"                         "
      ]
     },
     "metadata": {},
     "output_type": "display_data"
    }
   ],
   "source": [
    "# Find the a element with .title class then get the link inside the href attribute.\n",
    "link <- games %>% \n",
    "  html_nodes(\"a.title\") %>% \n",
    "  html_attr(\"href\")\n",
    "link %>% \n",
    "    head()"
   ]
  },
  {
   "cell_type": "code",
   "execution_count": 10,
   "id": "56a34644",
   "metadata": {},
   "outputs": [
    {
     "data": {
      "text/html": [
       "<style>\n",
       ".list-inline {list-style: none; margin:0; padding: 0}\n",
       ".list-inline>li {display: inline-block}\n",
       ".list-inline>li:not(:last-child)::after {content: \"\\00b7\"; padding: 0 .5ex}\n",
       "</style>\n",
       "<ol class=list-inline><li><span style=white-space:pre-wrap>'\\n                                        Nintendo 64\\n                                                                            '</span></li><li><span style=white-space:pre-wrap>'\\n                                        PlayStation\\n                                                                            '</span></li><li><span style=white-space:pre-wrap>'\\n                                        PlayStation 3\\n                                                                            '</span></li><li><span style=white-space:pre-wrap>'\\n                                        Dreamcast\\n                                                                            '</span></li><li><span style=white-space:pre-wrap>'\\n                                        Xbox 360\\n                                                                            '</span></li><li><span style=white-space:pre-wrap>'\\n                                        Wii\\n                                                                            '</span></li></ol>\n"
      ],
      "text/latex": [
       "\\begin{enumerate*}\n",
       "\\item '\\textbackslash{}n                                        Nintendo 64\\textbackslash{}n                                                                            '\n",
       "\\item '\\textbackslash{}n                                        PlayStation\\textbackslash{}n                                                                            '\n",
       "\\item '\\textbackslash{}n                                        PlayStation 3\\textbackslash{}n                                                                            '\n",
       "\\item '\\textbackslash{}n                                        Dreamcast\\textbackslash{}n                                                                            '\n",
       "\\item '\\textbackslash{}n                                        Xbox 360\\textbackslash{}n                                                                            '\n",
       "\\item '\\textbackslash{}n                                        Wii\\textbackslash{}n                                                                            '\n",
       "\\end{enumerate*}\n"
      ],
      "text/markdown": [
       "1. <span style=white-space:pre-wrap>'\\n                                        Nintendo 64\\n                                                                            '</span>\n",
       "2. <span style=white-space:pre-wrap>'\\n                                        PlayStation\\n                                                                            '</span>\n",
       "3. <span style=white-space:pre-wrap>'\\n                                        PlayStation 3\\n                                                                            '</span>\n",
       "4. <span style=white-space:pre-wrap>'\\n                                        Dreamcast\\n                                                                            '</span>\n",
       "5. <span style=white-space:pre-wrap>'\\n                                        Xbox 360\\n                                                                            '</span>\n",
       "6. <span style=white-space:pre-wrap>'\\n                                        Wii\\n                                                                            '</span>\n",
       "\n",
       "\n"
      ],
      "text/plain": [
       "[1] \"\\n                                        Nintendo 64\\n                                                                            \"  \n",
       "[2] \"\\n                                        PlayStation\\n                                                                            \"  \n",
       "[3] \"\\n                                        PlayStation 3\\n                                                                            \"\n",
       "[4] \"\\n                                        Dreamcast\\n                                                                            \"    \n",
       "[5] \"\\n                                        Xbox 360\\n                                                                            \"     \n",
       "[6] \"\\n                                        Wii\\n                                                                            \"          "
      ]
     },
     "metadata": {},
     "output_type": "display_data"
    }
   ],
   "source": [
    "# Finds the element inside .platform class having .data class. Then extract the raw text inside that element. \n",
    "# Assign the result as platform. \n",
    "game_platform <- games %>% \n",
    "  html_nodes(\".platform > .data\") %>% \n",
    "  html_text()\n",
    "game_platform %>% \n",
    "    head()"
   ]
  },
  {
   "cell_type": "code",
   "execution_count": 11,
   "id": "8f2c24e2",
   "metadata": {},
   "outputs": [
    {
     "data": {
      "text/html": [
       "<style>\n",
       ".list-inline {list-style: none; margin:0; padding: 0}\n",
       ".list-inline>li {display: inline-block}\n",
       ".list-inline>li:not(:last-child)::after {content: \"\\00b7\"; padding: 0 .5ex}\n",
       "</style>\n",
       "<ol class=list-inline><li>'November 23, 1998'</li><li>'September 20, 2000'</li><li>'April 29, 2008'</li><li>'September 8, 1999'</li><li>'April 29, 2008'</li><li>'November 12, 2007'</li></ol>\n"
      ],
      "text/latex": [
       "\\begin{enumerate*}\n",
       "\\item 'November 23, 1998'\n",
       "\\item 'September 20, 2000'\n",
       "\\item 'April 29, 2008'\n",
       "\\item 'September 8, 1999'\n",
       "\\item 'April 29, 2008'\n",
       "\\item 'November 12, 2007'\n",
       "\\end{enumerate*}\n"
      ],
      "text/markdown": [
       "1. 'November 23, 1998'\n",
       "2. 'September 20, 2000'\n",
       "3. 'April 29, 2008'\n",
       "4. 'September 8, 1999'\n",
       "5. 'April 29, 2008'\n",
       "6. 'November 12, 2007'\n",
       "\n",
       "\n"
      ],
      "text/plain": [
       "[1] \"November 23, 1998\"  \"September 20, 2000\" \"April 29, 2008\"    \n",
       "[4] \"September 8, 1999\"  \"April 29, 2008\"     \"November 12, 2007\" "
      ]
     },
     "metadata": {},
     "output_type": "display_data"
    }
   ],
   "source": [
    "# Finds all of the span element inside .clamp-details class and extract the contained raw text from it. \n",
    "# Assign the result as release_date.\n",
    "release_date <- games %>% \n",
    "  html_nodes(\".clamp-details > span\") %>% \n",
    "  html_text()\n",
    "release_date %>% \n",
    "    head()"
   ]
  },
  {
   "cell_type": "code",
   "execution_count": 12,
   "id": "f5a9c20c",
   "metadata": {},
   "outputs": [
    {
     "data": {
      "text/html": [
       "<style>\n",
       ".list-inline {list-style: none; margin:0; padding: 0}\n",
       ".list-inline>li {display: inline-block}\n",
       ".list-inline>li:not(:last-child)::after {content: \"\\00b7\"; padding: 0 .5ex}\n",
       "</style>\n",
       "<ol class=list-inline><li><span style=white-space:pre-wrap>'\\n                        As a young boy, Link is tricked by Ganondorf, the King of the Gerudo Thieves. The evil human uses Link to gain access to the Sacred Realm, where he places his tainted hands on Triforce and transforms the beautiful Hyrulean landscape into a barren wasteland. Link is determined to fix the problems he helped to create, so with the help of Rauru he travels through time gathering the powers of the Seven Sages.\\n                        '</span></li><li><span style=white-space:pre-wrap>'\\n                        As most major publishers\\' development efforts shift to any number of next-generation platforms, Tony Hawk 2 will likely stand as one of the last truly fantastic games to be released on the PlayStation.\\n                        '</span></li><li><span style=white-space:pre-wrap>'\\n                        [Metacritic\\'s 2008 PS3 Game of the Year; Also known as \"GTA IV\"]  What does the American Dream mean today? For Niko Belic, fresh off the boat from Europe. It\\'s the hope he can escape his past. For his cousin, Roman, it is the vision that together they can find fortune in Liberty City, gateway to the land of opportunity. As they slip into debt and are dragged into a criminal underworld by a series of shysters, thieves and sociopaths, they discover that the reality is very different from the dream in a city that worships money and status, and is heaven for those who have them an a living nightmare for those who don\\'t. [Rockstar Games]\\n                        '</span></li><li><span style=white-space:pre-wrap>'\\n                        This is a tale of souls and swords, transcending the world and all its history, told for all eternity... The greatest weapons-based fighter returns, this time on Sega Dreamcast. Soul Calibur unleashes incredible graphics, fantastic fighters, and combos so amazing they\\'ll make your head spin!\\n                        '</span></li><li><span style=white-space:pre-wrap>'\\n                        [Metacritic\\'s 2008 Xbox 360 Game of the Year; Also known as \"GTA IV\"]  What does the American Dream mean today? For Niko Belic, fresh off the boat from Europe. It\\'s the hope he can escape his past. For his cousin, Roman, it is the vision that together they can find fortune in Liberty City, gateway to the land of opportunity. As they slip into debt and are dragged into a criminal underworld by a series of shysters, thieves and sociopaths, they discover that the reality is very different from the dream in a city that worships money and status, and is heaven for those who have them an a living nightmare for those who don\\'t. [Rockstar Games]\\n                        '</span></li><li><span style=white-space:pre-wrap>'\\n                        [Metacritic\\'s 2007 Wii Game of the Year] The ultimate Nintendo hero is taking the ultimate step ... out into space. Join Mario as he ushers in a new era of video games, defying gravity across all the planets in the galaxy. When some creature escapes into space with Princess Peach, Mario gives chase, exploring bizarre planets all across the galaxy. Mario, Peach and enemies new and old are here. Players run, jump and battle enemies as they explore all the planets in the galaxy. Since this game makes full use of all the features of the Wii Remote, players have to do all kinds of things to succeed: pressing buttons, swinging the Wii Remote and the Nunchuk, and even pointing at and dragging things with the pointer. Since he\\'s in space, Mario can perform mind-bending jumps unlike anything he\\'s done before. He\\'ll also have a wealth of new moves that are all based around tilting, pointing and shaking the Wii Remote. Shake, tilt and point! Mario takes advantage of all the unique aspects of the Wii Remote and Nunchuk controller, unleashing new moves as players shake the controller and even point at and drag items with the pointer. [Nintendo]\\n                        '</span></li></ol>\n"
      ],
      "text/latex": [
       "\\begin{enumerate*}\n",
       "\\item '\\textbackslash{}n                        As a young boy, Link is tricked by Ganondorf, the King of the Gerudo Thieves. The evil human uses Link to gain access to the Sacred Realm, where he places his tainted hands on Triforce and transforms the beautiful Hyrulean landscape into a barren wasteland. Link is determined to fix the problems he helped to create, so with the help of Rauru he travels through time gathering the powers of the Seven Sages.\\textbackslash{}n                        '\n",
       "\\item '\\textbackslash{}n                        As most major publishers\\textbackslash{}' development efforts shift to any number of next-generation platforms, Tony Hawk 2 will likely stand as one of the last truly fantastic games to be released on the PlayStation.\\textbackslash{}n                        '\n",
       "\\item '\\textbackslash{}n                        {[}Metacritic\\textbackslash{}'s 2008 PS3 Game of the Year; Also known as \"GTA IV\"{]}  What does the American Dream mean today? For Niko Belic, fresh off the boat from Europe. It\\textbackslash{}'s the hope he can escape his past. For his cousin, Roman, it is the vision that together they can find fortune in Liberty City, gateway to the land of opportunity. As they slip into debt and are dragged into a criminal underworld by a series of shysters, thieves and sociopaths, they discover that the reality is very different from the dream in a city that worships money and status, and is heaven for those who have them an a living nightmare for those who don\\textbackslash{}'t. {[}Rockstar Games{]}\\textbackslash{}n                        '\n",
       "\\item '\\textbackslash{}n                        This is a tale of souls and swords, transcending the world and all its history, told for all eternity... The greatest weapons-based fighter returns, this time on Sega Dreamcast. Soul Calibur unleashes incredible graphics, fantastic fighters, and combos so amazing they\\textbackslash{}'ll make your head spin!\\textbackslash{}n                        '\n",
       "\\item '\\textbackslash{}n                        {[}Metacritic\\textbackslash{}'s 2008 Xbox 360 Game of the Year; Also known as \"GTA IV\"{]}  What does the American Dream mean today? For Niko Belic, fresh off the boat from Europe. It\\textbackslash{}'s the hope he can escape his past. For his cousin, Roman, it is the vision that together they can find fortune in Liberty City, gateway to the land of opportunity. As they slip into debt and are dragged into a criminal underworld by a series of shysters, thieves and sociopaths, they discover that the reality is very different from the dream in a city that worships money and status, and is heaven for those who have them an a living nightmare for those who don\\textbackslash{}'t. {[}Rockstar Games{]}\\textbackslash{}n                        '\n",
       "\\item '\\textbackslash{}n                        {[}Metacritic\\textbackslash{}'s 2007 Wii Game of the Year{]} The ultimate Nintendo hero is taking the ultimate step ... out into space. Join Mario as he ushers in a new era of video games, defying gravity across all the planets in the galaxy. When some creature escapes into space with Princess Peach, Mario gives chase, exploring bizarre planets all across the galaxy. Mario, Peach and enemies new and old are here. Players run, jump and battle enemies as they explore all the planets in the galaxy. Since this game makes full use of all the features of the Wii Remote, players have to do all kinds of things to succeed: pressing buttons, swinging the Wii Remote and the Nunchuk, and even pointing at and dragging things with the pointer. Since he\\textbackslash{}'s in space, Mario can perform mind-bending jumps unlike anything he\\textbackslash{}'s done before. He\\textbackslash{}'ll also have a wealth of new moves that are all based around tilting, pointing and shaking the Wii Remote. Shake, tilt and point! Mario takes advantage of all the unique aspects of the Wii Remote and Nunchuk controller, unleashing new moves as players shake the controller and even point at and drag items with the pointer. {[}Nintendo{]}\\textbackslash{}n                        '\n",
       "\\end{enumerate*}\n"
      ],
      "text/markdown": [
       "1. <span style=white-space:pre-wrap>'\\n                        As a young boy, Link is tricked by Ganondorf, the King of the Gerudo Thieves. The evil human uses Link to gain access to the Sacred Realm, where he places his tainted hands on Triforce and transforms the beautiful Hyrulean landscape into a barren wasteland. Link is determined to fix the problems he helped to create, so with the help of Rauru he travels through time gathering the powers of the Seven Sages.\\n                        '</span>\n",
       "2. <span style=white-space:pre-wrap>'\\n                        As most major publishers\\' development efforts shift to any number of next-generation platforms, Tony Hawk 2 will likely stand as one of the last truly fantastic games to be released on the PlayStation.\\n                        '</span>\n",
       "3. <span style=white-space:pre-wrap>'\\n                        [Metacritic\\'s 2008 PS3 Game of the Year; Also known as \"GTA IV\"]  What does the American Dream mean today? For Niko Belic, fresh off the boat from Europe. It\\'s the hope he can escape his past. For his cousin, Roman, it is the vision that together they can find fortune in Liberty City, gateway to the land of opportunity. As they slip into debt and are dragged into a criminal underworld by a series of shysters, thieves and sociopaths, they discover that the reality is very different from the dream in a city that worships money and status, and is heaven for those who have them an a living nightmare for those who don\\'t. [Rockstar Games]\\n                        '</span>\n",
       "4. <span style=white-space:pre-wrap>'\\n                        This is a tale of souls and swords, transcending the world and all its history, told for all eternity... The greatest weapons-based fighter returns, this time on Sega Dreamcast. Soul Calibur unleashes incredible graphics, fantastic fighters, and combos so amazing they\\'ll make your head spin!\\n                        '</span>\n",
       "5. <span style=white-space:pre-wrap>'\\n                        [Metacritic\\'s 2008 Xbox 360 Game of the Year; Also known as \"GTA IV\"]  What does the American Dream mean today? For Niko Belic, fresh off the boat from Europe. It\\'s the hope he can escape his past. For his cousin, Roman, it is the vision that together they can find fortune in Liberty City, gateway to the land of opportunity. As they slip into debt and are dragged into a criminal underworld by a series of shysters, thieves and sociopaths, they discover that the reality is very different from the dream in a city that worships money and status, and is heaven for those who have them an a living nightmare for those who don\\'t. [Rockstar Games]\\n                        '</span>\n",
       "6. <span style=white-space:pre-wrap>'\\n                        [Metacritic\\'s 2007 Wii Game of the Year] The ultimate Nintendo hero is taking the ultimate step ... out into space. Join Mario as he ushers in a new era of video games, defying gravity across all the planets in the galaxy. When some creature escapes into space with Princess Peach, Mario gives chase, exploring bizarre planets all across the galaxy. Mario, Peach and enemies new and old are here. Players run, jump and battle enemies as they explore all the planets in the galaxy. Since this game makes full use of all the features of the Wii Remote, players have to do all kinds of things to succeed: pressing buttons, swinging the Wii Remote and the Nunchuk, and even pointing at and dragging things with the pointer. Since he\\'s in space, Mario can perform mind-bending jumps unlike anything he\\'s done before. He\\'ll also have a wealth of new moves that are all based around tilting, pointing and shaking the Wii Remote. Shake, tilt and point! Mario takes advantage of all the unique aspects of the Wii Remote and Nunchuk controller, unleashing new moves as players shake the controller and even point at and drag items with the pointer. [Nintendo]\\n                        '</span>\n",
       "\n",
       "\n"
      ],
      "text/plain": [
       "[1] \"\\n                        As a young boy, Link is tricked by Ganondorf, the King of the Gerudo Thieves. The evil human uses Link to gain access to the Sacred Realm, where he places his tainted hands on Triforce and transforms the beautiful Hyrulean landscape into a barren wasteland. Link is determined to fix the problems he helped to create, so with the help of Rauru he travels through time gathering the powers of the Seven Sages.\\n                        \"                                                                                                                                                                                                                                                                                                                                                                                                                                                                                                                                                                                                                                                                                                                                                                     \n",
       "[2] \"\\n                        As most major publishers' development efforts shift to any number of next-generation platforms, Tony Hawk 2 will likely stand as one of the last truly fantastic games to be released on the PlayStation.\\n                        \"                                                                                                                                                                                                                                                                                                                                                                                                                                                                                                                                                                                                                                                                                                                                                                                                                                                                                                                                                                                    \n",
       "[3] \"\\n                        [Metacritic's 2008 PS3 Game of the Year; Also known as \\\"GTA IV\\\"]  What does the American Dream mean today? For Niko Belic, fresh off the boat from Europe. It's the hope he can escape his past. For his cousin, Roman, it is the vision that together they can find fortune in Liberty City, gateway to the land of opportunity. As they slip into debt and are dragged into a criminal underworld by a series of shysters, thieves and sociopaths, they discover that the reality is very different from the dream in a city that worships money and status, and is heaven for those who have them an a living nightmare for those who don't. [Rockstar Games]\\n                        \"                                                                                                                                                                                                                                                                                                                                                                                                                                                                                                                           \n",
       "[4] \"\\n                        This is a tale of souls and swords, transcending the world and all its history, told for all eternity... The greatest weapons-based fighter returns, this time on Sega Dreamcast. Soul Calibur unleashes incredible graphics, fantastic fighters, and combos so amazing they'll make your head spin!\\n                        \"                                                                                                                                                                                                                                                                                                                                                                                                                                                                                                                                                                                                                                                                                                                                                                                                                                                                                         \n",
       "[5] \"\\n                        [Metacritic's 2008 Xbox 360 Game of the Year; Also known as \\\"GTA IV\\\"]  What does the American Dream mean today? For Niko Belic, fresh off the boat from Europe. It's the hope he can escape his past. For his cousin, Roman, it is the vision that together they can find fortune in Liberty City, gateway to the land of opportunity. As they slip into debt and are dragged into a criminal underworld by a series of shysters, thieves and sociopaths, they discover that the reality is very different from the dream in a city that worships money and status, and is heaven for those who have them an a living nightmare for those who don't. [Rockstar Games]\\n                        \"                                                                                                                                                                                                                                                                                                                                                                                                                                                                                                                      \n",
       "[6] \"\\n                        [Metacritic's 2007 Wii Game of the Year] The ultimate Nintendo hero is taking the ultimate step ... out into space. Join Mario as he ushers in a new era of video games, defying gravity across all the planets in the galaxy. When some creature escapes into space with Princess Peach, Mario gives chase, exploring bizarre planets all across the galaxy. Mario, Peach and enemies new and old are here. Players run, jump and battle enemies as they explore all the planets in the galaxy. Since this game makes full use of all the features of the Wii Remote, players have to do all kinds of things to succeed: pressing buttons, swinging the Wii Remote and the Nunchuk, and even pointing at and dragging things with the pointer. Since he's in space, Mario can perform mind-bending jumps unlike anything he's done before. He'll also have a wealth of new moves that are all based around tilting, pointing and shaking the Wii Remote. Shake, tilt and point! Mario takes advantage of all the unique aspects of the Wii Remote and Nunchuk controller, unleashing new moves as players shake the controller and even point at and drag items with the pointer. [Nintendo]\\n                        \""
      ]
     },
     "metadata": {},
     "output_type": "display_data"
    }
   ],
   "source": [
    "# Takes the element with class .summary then extract the text inside of it. Save th result as game_descr.\n",
    "description <- games %>% \n",
    "  html_nodes(\".summary\") %>% \n",
    "  html_text()\n",
    "description %>% \n",
    "    head()"
   ]
  },
  {
   "cell_type": "code",
   "execution_count": 13,
   "id": "410eaa27",
   "metadata": {
    "scrolled": true
   },
   "outputs": [
    {
     "data": {
      "text/html": [
       "<style>\n",
       ".list-inline {list-style: none; margin:0; padding: 0}\n",
       ".list-inline>li {display: inline-block}\n",
       ".list-inline>li:not(:last-child)::after {content: \"\\00b7\"; padding: 0 .5ex}\n",
       "</style>\n",
       "<ol class=list-inline><li>'99'</li><li>'98'</li><li>'98'</li><li>'98'</li><li>'98'</li><li>'97'</li></ol>\n"
      ],
      "text/latex": [
       "\\begin{enumerate*}\n",
       "\\item '99'\n",
       "\\item '98'\n",
       "\\item '98'\n",
       "\\item '98'\n",
       "\\item '98'\n",
       "\\item '97'\n",
       "\\end{enumerate*}\n"
      ],
      "text/markdown": [
       "1. '99'\n",
       "2. '98'\n",
       "3. '98'\n",
       "4. '98'\n",
       "5. '98'\n",
       "6. '97'\n",
       "\n",
       "\n"
      ],
      "text/plain": [
       "[1] \"99\" \"98\" \"98\" \"98\" \"98\" \"97\""
      ]
     },
     "metadata": {},
     "output_type": "display_data"
    }
   ],
   "source": [
    "# Finds the div element inside a element under the element having .clamp-metascore as class and extract the text inside.\n",
    "# Save the result as meta_score.\n",
    "meta_score <- games %>% \n",
    "  html_nodes(\".clamp-metascore > a > div\") %>% \n",
    "  html_text()\n",
    "meta_score %>% \n",
    "    head()"
   ]
  },
  {
   "cell_type": "code",
   "execution_count": 14,
   "id": "08da848d",
   "metadata": {
    "scrolled": true
   },
   "outputs": [
    {
     "data": {
      "text/html": [
       "<style>\n",
       ".list-inline {list-style: none; margin:0; padding: 0}\n",
       ".list-inline>li {display: inline-block}\n",
       ".list-inline>li:not(:last-child)::after {content: \"\\00b7\"; padding: 0 .5ex}\n",
       "</style>\n",
       "<ol class=list-inline><li>'9.1'</li><li>'7.4'</li><li>'7.8'</li><li>'8.4'</li><li>'7.9'</li><li>'9.1'</li></ol>\n"
      ],
      "text/latex": [
       "\\begin{enumerate*}\n",
       "\\item '9.1'\n",
       "\\item '7.4'\n",
       "\\item '7.8'\n",
       "\\item '8.4'\n",
       "\\item '7.9'\n",
       "\\item '9.1'\n",
       "\\end{enumerate*}\n"
      ],
      "text/markdown": [
       "1. '9.1'\n",
       "2. '7.4'\n",
       "3. '7.8'\n",
       "4. '8.4'\n",
       "5. '7.9'\n",
       "6. '9.1'\n",
       "\n",
       "\n"
      ],
      "text/plain": [
       "[1] \"9.1\" \"7.4\" \"7.8\" \"8.4\" \"7.9\" \"9.1\""
      ]
     },
     "metadata": {},
     "output_type": "display_data"
    }
   ],
   "source": [
    "# Finds the div element inside a element under the element having .clamp-usercore as class and extract the text inside.\n",
    "# Save the result as user_score.\n",
    "user_score <- games %>% \n",
    "  html_nodes(\".clamp-userscore > a > div\") %>% \n",
    "  html_text()\n",
    "user_score %>% \n",
    "    head()"
   ]
  },
  {
   "cell_type": "code",
   "execution_count": 15,
   "id": "eb1c5c1b",
   "metadata": {},
   "outputs": [
    {
     "data": {
      "text/html": [
       "<span style=white-space:pre-wrap>'\\n                                                        Nintendo\\n                                                    '</span>"
      ],
      "text/latex": [
       "'\\textbackslash{}n                                                        Nintendo\\textbackslash{}n                                                    '"
      ],
      "text/markdown": [
       "<span style=white-space:pre-wrap>'\\n                                                        Nintendo\\n                                                    '</span>"
      ],
      "text/plain": [
       "[1] \"\\n                                                        Nintendo\\n                                                    \""
      ]
     },
     "metadata": {},
     "output_type": "display_data"
    },
    {
     "data": {
      "text/html": [
       "<span style=white-space:pre-wrap>'\\n                    Nintendo                '</span>"
      ],
      "text/latex": [
       "'\\textbackslash{}n                    Nintendo                '"
      ],
      "text/markdown": [
       "<span style=white-space:pre-wrap>'\\n                    Nintendo                '</span>"
      ],
      "text/plain": [
       "[1] \"\\n                    Nintendo                \""
      ]
     },
     "metadata": {},
     "output_type": "display_data"
    },
    {
     "data": {
      "text/html": [
       "<style>\n",
       ".list-inline {list-style: none; margin:0; padding: 0}\n",
       ".list-inline>li {display: inline-block}\n",
       ".list-inline>li:not(:last-child)::after {content: \"\\00b7\"; padding: 0 .5ex}\n",
       "</style>\n",
       "<ol class=list-inline><li>'Action Adventure'</li><li>'Fantasy'</li></ol>\n"
      ],
      "text/latex": [
       "\\begin{enumerate*}\n",
       "\\item 'Action Adventure'\n",
       "\\item 'Fantasy'\n",
       "\\end{enumerate*}\n"
      ],
      "text/markdown": [
       "1. 'Action Adventure'\n",
       "2. 'Fantasy'\n",
       "\n",
       "\n"
      ],
      "text/plain": [
       "[1] \"Action Adventure\" \"Fantasy\"         "
      ]
     },
     "metadata": {},
     "output_type": "display_data"
    },
    {
     "data": {
      "text/html": [
       "'E'"
      ],
      "text/latex": [
       "'E'"
      ],
      "text/markdown": [
       "'E'"
      ],
      "text/plain": [
       "[1] \"E\""
      ]
     },
     "metadata": {},
     "output_type": "display_data"
    }
   ],
   "source": [
    "# Combine the links scraped from href attribute with the base url of metacritic. \n",
    "# Reads the content of the web page from the resulting link. Using the content of the web page\n",
    "# new information about games are acquired such as publisher, developer, genre, and rating.\n",
    "game <- glue(\"https://www.metacritic.com{link[1]}\") %>% \n",
    "  read_html()\n",
    "\n",
    "publisher <- game %>% html_nodes(\".summary_detail.publisher > .data > a\") %>% html_text()\n",
    "developer <- game %>% html_nodes(\".summary_detail.developer > .data\") %>% html_text()\n",
    "genre <- game %>% html_nodes(\".summary_detail.product_genre > .data\") %>% html_text()\n",
    "rating <- game %>% html_nodes(\".summary_detail.product_rating > .data\") %>% html_text()\n",
    "\n",
    "publisher;developer;genre;rating"
   ]
  },
  {
   "cell_type": "markdown",
   "id": "e448326b",
   "metadata": {},
   "source": [
    "> By scraping the **Games of all Time** page in **metacritic** using `html class`, `html element`, and scraping related functions from the packages above, we acquired the raw information about the games listed in the page such as game titles, gaming platforms they are available on, its release dates, game descriptions, the meta and user score. "
   ]
  },
  {
   "cell_type": "markdown",
   "id": "be5cac08",
   "metadata": {},
   "source": [
    "<h2>TASK (B) WRANGLE IT</h2>"
   ]
  },
  {
   "cell_type": "code",
   "execution_count": 16,
   "id": "cd408073",
   "metadata": {
    "scrolled": true
   },
   "outputs": [
    {
     "data": {
      "text/html": [
       "<table class=\"dataframe\">\n",
       "<caption>A tibble: 6 × 3</caption>\n",
       "<thead>\n",
       "\t<tr><th scope=col>title</th><th scope=col>release_date</th><th scope=col>game_descr</th></tr>\n",
       "\t<tr><th scope=col>&lt;chr&gt;</th><th scope=col>&lt;date&gt;</th><th scope=col>&lt;chr&gt;</th></tr>\n",
       "</thead>\n",
       "<tbody>\n",
       "\t<tr><td>The Legend of Zelda: Ocarina of Time</td><td>1998-11-23</td><td>As a young boy  Link is tricked by Ganondorf  the King of the Gerudo Thieves  The evil human uses Link to gain access to the Sacred Realm  where he places his tainted hands on Triforce and transforms the beautiful Hyrulean landscape into a barren wasteland  Link is determined to fix the problems he helped to create  so with the help of Rauru he travels through time gathering the powers of the Seven Sages                                                                                                                                                                                                                                                                                                                                                                                                                                                                                                                                                                                                                                                                                                                                                                    </td></tr>\n",
       "\t<tr><td>Tony Hawk's Pro Skater 2            </td><td>2000-09-20</td><td>As most major publishers  development efforts shift to any number of next generation platforms  Tony Hawk 2 will likely stand as one of the last truly fantastic games to be released on the PlayStation                                                                                                                                                                                                                                                                                                                                                                                                                                                                                                                                                                                                                                                                                                                                                                                                                                                                                                                                                                                   </td></tr>\n",
       "\t<tr><td>Grand Theft Auto IV                 </td><td>2008-04-29</td><td>Metacritic s 2008 PS3 Game of the Year  Also known as  GTA IV    What does the American Dream mean today  For Niko Belic  fresh off the boat from Europe  It s the hope he can escape his past  For his cousin  Roman  it is the vision that together they can find fortune in Liberty City  gateway to the land of opportunity  As they slip into debt and are dragged into a criminal underworld by a series of shysters  thieves and sociopaths  they discover that the reality is very different from the dream in a city that worships money and status  and is heaven for those who have them an a living nightmare for those who don t   Rockstar Games                                                                                                                                                                                                                                                                                                                                                                                                                                                                                                                             </td></tr>\n",
       "\t<tr><td>SoulCalibur                         </td><td>1999-09-08</td><td>This is a tale of souls and swords  transcending the world and all its history  told for all eternity    The greatest weapons based fighter returns  this time on Sega Dreamcast  Soul Calibur unleashes incredible graphics  fantastic fighters  and combos so amazing they ll make your head spin                                                                                                                                                                                                                                                                                                                                                                                                                                                                                                                                                                                                                                                                                                                                                                                                                                                                                        </td></tr>\n",
       "\t<tr><td>Grand Theft Auto IV                 </td><td>2008-04-29</td><td>Metacritic s 2008 Xbox 360 Game of the Year  Also known as  GTA IV    What does the American Dream mean today  For Niko Belic  fresh off the boat from Europe  It s the hope he can escape his past  For his cousin  Roman  it is the vision that together they can find fortune in Liberty City  gateway to the land of opportunity  As they slip into debt and are dragged into a criminal underworld by a series of shysters  thieves and sociopaths  they discover that the reality is very different from the dream in a city that worships money and status  and is heaven for those who have them an a living nightmare for those who don t   Rockstar Games                                                                                                                                                                                                                                                                                                                                                                                                                                                                                                                        </td></tr>\n",
       "\t<tr><td>Super Mario Galaxy                  </td><td>2007-11-12</td><td>Metacritic s 2007 Wii Game of the Year  The ultimate Nintendo hero is taking the ultimate step     out into space  Join Mario as he ushers in a new era of video games  defying gravity across all the planets in the galaxy  When some creature escapes into space with Princess Peach  Mario gives chase  exploring bizarre planets all across the galaxy  Mario  Peach and enemies new and old are here  Players run  jump and battle enemies as they explore all the planets in the galaxy  Since this game makes full use of all the features of the Wii Remote  players have to do all kinds of things to succeed  pressing buttons  swinging the Wii Remote and the Nunchuk  and even pointing at and dragging things with the pointer  Since he s in space  Mario can perform mind bending jumps unlike anything he s done before  He ll also have a wealth of new moves that are all based around tilting  pointing and shaking the Wii Remote  Shake  tilt and point  Mario takes advantage of all the unique aspects of the Wii Remote and Nunchuk controller  unleashing new moves as players shake the controller and even point at and drag items with the pointer   Nintendo</td></tr>\n",
       "</tbody>\n",
       "</table>\n"
      ],
      "text/latex": [
       "A tibble: 6 × 3\n",
       "\\begin{tabular}{lll}\n",
       " title & release\\_date & game\\_descr\\\\\n",
       " <chr> & <date> & <chr>\\\\\n",
       "\\hline\n",
       "\t The Legend of Zelda: Ocarina of Time & 1998-11-23 & As a young boy  Link is tricked by Ganondorf  the King of the Gerudo Thieves  The evil human uses Link to gain access to the Sacred Realm  where he places his tainted hands on Triforce and transforms the beautiful Hyrulean landscape into a barren wasteland  Link is determined to fix the problems he helped to create  so with the help of Rauru he travels through time gathering the powers of the Seven Sages                                                                                                                                                                                                                                                                                                                                                                                                                                                                                                                                                                                                                                                                                                                                                                    \\\\\n",
       "\t Tony Hawk's Pro Skater 2             & 2000-09-20 & As most major publishers  development efforts shift to any number of next generation platforms  Tony Hawk 2 will likely stand as one of the last truly fantastic games to be released on the PlayStation                                                                                                                                                                                                                                                                                                                                                                                                                                                                                                                                                                                                                                                                                                                                                                                                                                                                                                                                                                                   \\\\\n",
       "\t Grand Theft Auto IV                  & 2008-04-29 & Metacritic s 2008 PS3 Game of the Year  Also known as  GTA IV    What does the American Dream mean today  For Niko Belic  fresh off the boat from Europe  It s the hope he can escape his past  For his cousin  Roman  it is the vision that together they can find fortune in Liberty City  gateway to the land of opportunity  As they slip into debt and are dragged into a criminal underworld by a series of shysters  thieves and sociopaths  they discover that the reality is very different from the dream in a city that worships money and status  and is heaven for those who have them an a living nightmare for those who don t   Rockstar Games                                                                                                                                                                                                                                                                                                                                                                                                                                                                                                                             \\\\\n",
       "\t SoulCalibur                          & 1999-09-08 & This is a tale of souls and swords  transcending the world and all its history  told for all eternity    The greatest weapons based fighter returns  this time on Sega Dreamcast  Soul Calibur unleashes incredible graphics  fantastic fighters  and combos so amazing they ll make your head spin                                                                                                                                                                                                                                                                                                                                                                                                                                                                                                                                                                                                                                                                                                                                                                                                                                                                                        \\\\\n",
       "\t Grand Theft Auto IV                  & 2008-04-29 & Metacritic s 2008 Xbox 360 Game of the Year  Also known as  GTA IV    What does the American Dream mean today  For Niko Belic  fresh off the boat from Europe  It s the hope he can escape his past  For his cousin  Roman  it is the vision that together they can find fortune in Liberty City  gateway to the land of opportunity  As they slip into debt and are dragged into a criminal underworld by a series of shysters  thieves and sociopaths  they discover that the reality is very different from the dream in a city that worships money and status  and is heaven for those who have them an a living nightmare for those who don t   Rockstar Games                                                                                                                                                                                                                                                                                                                                                                                                                                                                                                                        \\\\\n",
       "\t Super Mario Galaxy                   & 2007-11-12 & Metacritic s 2007 Wii Game of the Year  The ultimate Nintendo hero is taking the ultimate step     out into space  Join Mario as he ushers in a new era of video games  defying gravity across all the planets in the galaxy  When some creature escapes into space with Princess Peach  Mario gives chase  exploring bizarre planets all across the galaxy  Mario  Peach and enemies new and old are here  Players run  jump and battle enemies as they explore all the planets in the galaxy  Since this game makes full use of all the features of the Wii Remote  players have to do all kinds of things to succeed  pressing buttons  swinging the Wii Remote and the Nunchuk  and even pointing at and dragging things with the pointer  Since he s in space  Mario can perform mind bending jumps unlike anything he s done before  He ll also have a wealth of new moves that are all based around tilting  pointing and shaking the Wii Remote  Shake  tilt and point  Mario takes advantage of all the unique aspects of the Wii Remote and Nunchuk controller  unleashing new moves as players shake the controller and even point at and drag items with the pointer   Nintendo\\\\\n",
       "\\end{tabular}\n"
      ],
      "text/markdown": [
       "\n",
       "A tibble: 6 × 3\n",
       "\n",
       "| title &lt;chr&gt; | release_date &lt;date&gt; | game_descr &lt;chr&gt; |\n",
       "|---|---|---|\n",
       "| The Legend of Zelda: Ocarina of Time | 1998-11-23 | As a young boy  Link is tricked by Ganondorf  the King of the Gerudo Thieves  The evil human uses Link to gain access to the Sacred Realm  where he places his tainted hands on Triforce and transforms the beautiful Hyrulean landscape into a barren wasteland  Link is determined to fix the problems he helped to create  so with the help of Rauru he travels through time gathering the powers of the Seven Sages                                                                                                                                                                                                                                                                                                                                                                                                                                                                                                                                                                                                                                                                                                                                                                     |\n",
       "| Tony Hawk's Pro Skater 2             | 2000-09-20 | As most major publishers  development efforts shift to any number of next generation platforms  Tony Hawk 2 will likely stand as one of the last truly fantastic games to be released on the PlayStation                                                                                                                                                                                                                                                                                                                                                                                                                                                                                                                                                                                                                                                                                                                                                                                                                                                                                                                                                                                    |\n",
       "| Grand Theft Auto IV                  | 2008-04-29 | Metacritic s 2008 PS3 Game of the Year  Also known as  GTA IV    What does the American Dream mean today  For Niko Belic  fresh off the boat from Europe  It s the hope he can escape his past  For his cousin  Roman  it is the vision that together they can find fortune in Liberty City  gateway to the land of opportunity  As they slip into debt and are dragged into a criminal underworld by a series of shysters  thieves and sociopaths  they discover that the reality is very different from the dream in a city that worships money and status  and is heaven for those who have them an a living nightmare for those who don t   Rockstar Games                                                                                                                                                                                                                                                                                                                                                                                                                                                                                                                              |\n",
       "| SoulCalibur                          | 1999-09-08 | This is a tale of souls and swords  transcending the world and all its history  told for all eternity    The greatest weapons based fighter returns  this time on Sega Dreamcast  Soul Calibur unleashes incredible graphics  fantastic fighters  and combos so amazing they ll make your head spin                                                                                                                                                                                                                                                                                                                                                                                                                                                                                                                                                                                                                                                                                                                                                                                                                                                                                         |\n",
       "| Grand Theft Auto IV                  | 2008-04-29 | Metacritic s 2008 Xbox 360 Game of the Year  Also known as  GTA IV    What does the American Dream mean today  For Niko Belic  fresh off the boat from Europe  It s the hope he can escape his past  For his cousin  Roman  it is the vision that together they can find fortune in Liberty City  gateway to the land of opportunity  As they slip into debt and are dragged into a criminal underworld by a series of shysters  thieves and sociopaths  they discover that the reality is very different from the dream in a city that worships money and status  and is heaven for those who have them an a living nightmare for those who don t   Rockstar Games                                                                                                                                                                                                                                                                                                                                                                                                                                                                                                                         |\n",
       "| Super Mario Galaxy                   | 2007-11-12 | Metacritic s 2007 Wii Game of the Year  The ultimate Nintendo hero is taking the ultimate step     out into space  Join Mario as he ushers in a new era of video games  defying gravity across all the planets in the galaxy  When some creature escapes into space with Princess Peach  Mario gives chase  exploring bizarre planets all across the galaxy  Mario  Peach and enemies new and old are here  Players run  jump and battle enemies as they explore all the planets in the galaxy  Since this game makes full use of all the features of the Wii Remote  players have to do all kinds of things to succeed  pressing buttons  swinging the Wii Remote and the Nunchuk  and even pointing at and dragging things with the pointer  Since he s in space  Mario can perform mind bending jumps unlike anything he s done before  He ll also have a wealth of new moves that are all based around tilting  pointing and shaking the Wii Remote  Shake  tilt and point  Mario takes advantage of all the unique aspects of the Wii Remote and Nunchuk controller  unleashing new moves as players shake the controller and even point at and drag items with the pointer   Nintendo |\n",
       "\n"
      ],
      "text/plain": [
       "  title                                release_date\n",
       "1 The Legend of Zelda: Ocarina of Time 1998-11-23  \n",
       "2 Tony Hawk's Pro Skater 2             2000-09-20  \n",
       "3 Grand Theft Auto IV                  2008-04-29  \n",
       "4 SoulCalibur                          1999-09-08  \n",
       "5 Grand Theft Auto IV                  2008-04-29  \n",
       "6 Super Mario Galaxy                   2007-11-12  \n",
       "  game_descr                                                                                                                                                                                                                                                                                                                                                                                                                                                                                                                                                                                                                                                                                                                                                                                                                                                                                                                                                                                                                                                                                                                                                                                 \n",
       "1 As a young boy  Link is tricked by Ganondorf  the King of the Gerudo Thieves  The evil human uses Link to gain access to the Sacred Realm  where he places his tainted hands on Triforce and transforms the beautiful Hyrulean landscape into a barren wasteland  Link is determined to fix the problems he helped to create  so with the help of Rauru he travels through time gathering the powers of the Seven Sages                                                                                                                                                                                                                                                                                                                                                                                                                                                                                                                                                                                                                                                                                                                                                                    \n",
       "2 As most major publishers  development efforts shift to any number of next generation platforms  Tony Hawk 2 will likely stand as one of the last truly fantastic games to be released on the PlayStation                                                                                                                                                                                                                                                                                                                                                                                                                                                                                                                                                                                                                                                                                                                                                                                                                                                                                                                                                                                   \n",
       "3 Metacritic s 2008 PS3 Game of the Year  Also known as  GTA IV    What does the American Dream mean today  For Niko Belic  fresh off the boat from Europe  It s the hope he can escape his past  For his cousin  Roman  it is the vision that together they can find fortune in Liberty City  gateway to the land of opportunity  As they slip into debt and are dragged into a criminal underworld by a series of shysters  thieves and sociopaths  they discover that the reality is very different from the dream in a city that worships money and status  and is heaven for those who have them an a living nightmare for those who don t   Rockstar Games                                                                                                                                                                                                                                                                                                                                                                                                                                                                                                                             \n",
       "4 This is a tale of souls and swords  transcending the world and all its history  told for all eternity    The greatest weapons based fighter returns  this time on Sega Dreamcast  Soul Calibur unleashes incredible graphics  fantastic fighters  and combos so amazing they ll make your head spin                                                                                                                                                                                                                                                                                                                                                                                                                                                                                                                                                                                                                                                                                                                                                                                                                                                                                        \n",
       "5 Metacritic s 2008 Xbox 360 Game of the Year  Also known as  GTA IV    What does the American Dream mean today  For Niko Belic  fresh off the boat from Europe  It s the hope he can escape his past  For his cousin  Roman  it is the vision that together they can find fortune in Liberty City  gateway to the land of opportunity  As they slip into debt and are dragged into a criminal underworld by a series of shysters  thieves and sociopaths  they discover that the reality is very different from the dream in a city that worships money and status  and is heaven for those who have them an a living nightmare for those who don t   Rockstar Games                                                                                                                                                                                                                                                                                                                                                                                                                                                                                                                        \n",
       "6 Metacritic s 2007 Wii Game of the Year  The ultimate Nintendo hero is taking the ultimate step     out into space  Join Mario as he ushers in a new era of video games  defying gravity across all the planets in the galaxy  When some creature escapes into space with Princess Peach  Mario gives chase  exploring bizarre planets all across the galaxy  Mario  Peach and enemies new and old are here  Players run  jump and battle enemies as they explore all the planets in the galaxy  Since this game makes full use of all the features of the Wii Remote  players have to do all kinds of things to succeed  pressing buttons  swinging the Wii Remote and the Nunchuk  and even pointing at and dragging things with the pointer  Since he s in space  Mario can perform mind bending jumps unlike anything he s done before  He ll also have a wealth of new moves that are all based around tilting  pointing and shaking the Wii Remote  Shake  tilt and point  Mario takes advantage of all the unique aspects of the Wii Remote and Nunchuk controller  unleashing new moves as players shake the controller and even point at and drag items with the pointer   Nintendo"
      ]
     },
     "metadata": {},
     "output_type": "display_data"
    }
   ],
   "source": [
    "# Creates a data frame containing the scraped data from Games of All Time page.\n",
    "# It is stored as all_games_df.\n",
    "all_games <- tibble(title = titles,\n",
    "                    release_date = as.Date(release_date, format = \"%B %d, %Y\"),\n",
    "                    game_descr = description %>% str_replace_all(\"[^[:alnum:]]\", \" \") %>% trimws(\"both\"))\n",
    "all_games %>% head()"
   ]
  },
  {
   "cell_type": "code",
   "execution_count": 17,
   "id": "ae543b65",
   "metadata": {},
   "outputs": [
    {
     "data": {
      "text/html": [
       "<table class=\"dataframe\">\n",
       "<caption>A tibble: 18 × 1</caption>\n",
       "<thead>\n",
       "\t<tr><th scope=col>platform_name</th></tr>\n",
       "\t<tr><th scope=col>&lt;chr&gt;</th></tr>\n",
       "</thead>\n",
       "<tbody>\n",
       "\t<tr><td>Nintendo 64     </td></tr>\n",
       "\t<tr><td>PlayStation     </td></tr>\n",
       "\t<tr><td>PlayStation 3   </td></tr>\n",
       "\t<tr><td>Dreamcast       </td></tr>\n",
       "\t<tr><td>Xbox 360        </td></tr>\n",
       "\t<tr><td>Wii             </td></tr>\n",
       "\t<tr><td>Xbox One        </td></tr>\n",
       "\t<tr><td>PC              </td></tr>\n",
       "\t<tr><td>Switch          </td></tr>\n",
       "\t<tr><td>PlayStation 2   </td></tr>\n",
       "\t<tr><td>PlayStation 4   </td></tr>\n",
       "\t<tr><td>GameCube        </td></tr>\n",
       "\t<tr><td>Xbox            </td></tr>\n",
       "\t<tr><td>Wii U           </td></tr>\n",
       "\t<tr><td>Xbox Series X   </td></tr>\n",
       "\t<tr><td>PlayStation 5   </td></tr>\n",
       "\t<tr><td>Game Boy Advance</td></tr>\n",
       "\t<tr><td>3DS             </td></tr>\n",
       "</tbody>\n",
       "</table>\n"
      ],
      "text/latex": [
       "A tibble: 18 × 1\n",
       "\\begin{tabular}{l}\n",
       " platform\\_name\\\\\n",
       " <chr>\\\\\n",
       "\\hline\n",
       "\t Nintendo 64     \\\\\n",
       "\t PlayStation     \\\\\n",
       "\t PlayStation 3   \\\\\n",
       "\t Dreamcast       \\\\\n",
       "\t Xbox 360        \\\\\n",
       "\t Wii             \\\\\n",
       "\t Xbox One        \\\\\n",
       "\t PC              \\\\\n",
       "\t Switch          \\\\\n",
       "\t PlayStation 2   \\\\\n",
       "\t PlayStation 4   \\\\\n",
       "\t GameCube        \\\\\n",
       "\t Xbox            \\\\\n",
       "\t Wii U           \\\\\n",
       "\t Xbox Series X   \\\\\n",
       "\t PlayStation 5   \\\\\n",
       "\t Game Boy Advance\\\\\n",
       "\t 3DS             \\\\\n",
       "\\end{tabular}\n"
      ],
      "text/markdown": [
       "\n",
       "A tibble: 18 × 1\n",
       "\n",
       "| platform_name &lt;chr&gt; |\n",
       "|---|\n",
       "| Nintendo 64      |\n",
       "| PlayStation      |\n",
       "| PlayStation 3    |\n",
       "| Dreamcast        |\n",
       "| Xbox 360         |\n",
       "| Wii              |\n",
       "| Xbox One         |\n",
       "| PC               |\n",
       "| Switch           |\n",
       "| PlayStation 2    |\n",
       "| PlayStation 4    |\n",
       "| GameCube         |\n",
       "| Xbox             |\n",
       "| Wii U            |\n",
       "| Xbox Series X    |\n",
       "| PlayStation 5    |\n",
       "| Game Boy Advance |\n",
       "| 3DS              |\n",
       "\n"
      ],
      "text/plain": [
       "   platform_name   \n",
       "1  Nintendo 64     \n",
       "2  PlayStation     \n",
       "3  PlayStation 3   \n",
       "4  Dreamcast       \n",
       "5  Xbox 360        \n",
       "6  Wii             \n",
       "7  Xbox One        \n",
       "8  PC              \n",
       "9  Switch          \n",
       "10 PlayStation 2   \n",
       "11 PlayStation 4   \n",
       "12 GameCube        \n",
       "13 Xbox            \n",
       "14 Wii U           \n",
       "15 Xbox Series X   \n",
       "16 PlayStation 5   \n",
       "17 Game Boy Advance\n",
       "18 3DS             "
      ]
     },
     "metadata": {},
     "output_type": "display_data"
    }
   ],
   "source": [
    "# Creates a data frame containing the gaming platforms scraped from Games\n",
    "# of All Time page. Save it as platforms.\n",
    "platforms <- tibble(platform_name = game_platform %>%\n",
    "                    str_replace_all(\"[^[:alnum:]]\", \" \") %>% \n",
    "                    trimws(\"both\"))\n",
    "platforms %>% \n",
    "    distinct()"
   ]
  },
  {
   "cell_type": "code",
   "execution_count": 18,
   "id": "b78e2c7c",
   "metadata": {},
   "outputs": [
    {
     "data": {
      "text/html": [
       "<table class=\"dataframe\">\n",
       "<caption>A tibble: 6 × 4</caption>\n",
       "<thead>\n",
       "\t<tr><th scope=col>title</th><th scope=col>platform_name</th><th scope=col>meta_score</th><th scope=col>user_score</th></tr>\n",
       "\t<tr><th scope=col>&lt;chr&gt;</th><th scope=col>&lt;chr&gt;</th><th scope=col>&lt;chr&gt;</th><th scope=col>&lt;chr&gt;</th></tr>\n",
       "</thead>\n",
       "<tbody>\n",
       "\t<tr><td>The Legend of Zelda: Ocarina of Time</td><td>Nintendo 64  </td><td>99</td><td>9.1</td></tr>\n",
       "\t<tr><td>Tony Hawk's Pro Skater 2            </td><td>PlayStation  </td><td>98</td><td>7.4</td></tr>\n",
       "\t<tr><td>Grand Theft Auto IV                 </td><td>PlayStation 3</td><td>98</td><td>7.8</td></tr>\n",
       "\t<tr><td>SoulCalibur                         </td><td>Dreamcast    </td><td>98</td><td>8.4</td></tr>\n",
       "\t<tr><td>Grand Theft Auto IV                 </td><td>Xbox 360     </td><td>98</td><td>7.9</td></tr>\n",
       "\t<tr><td>Super Mario Galaxy                  </td><td>Wii          </td><td>97</td><td>9.1</td></tr>\n",
       "</tbody>\n",
       "</table>\n"
      ],
      "text/latex": [
       "A tibble: 6 × 4\n",
       "\\begin{tabular}{llll}\n",
       " title & platform\\_name & meta\\_score & user\\_score\\\\\n",
       " <chr> & <chr> & <chr> & <chr>\\\\\n",
       "\\hline\n",
       "\t The Legend of Zelda: Ocarina of Time & Nintendo 64   & 99 & 9.1\\\\\n",
       "\t Tony Hawk's Pro Skater 2             & PlayStation   & 98 & 7.4\\\\\n",
       "\t Grand Theft Auto IV                  & PlayStation 3 & 98 & 7.8\\\\\n",
       "\t SoulCalibur                          & Dreamcast     & 98 & 8.4\\\\\n",
       "\t Grand Theft Auto IV                  & Xbox 360      & 98 & 7.9\\\\\n",
       "\t Super Mario Galaxy                   & Wii           & 97 & 9.1\\\\\n",
       "\\end{tabular}\n"
      ],
      "text/markdown": [
       "\n",
       "A tibble: 6 × 4\n",
       "\n",
       "| title &lt;chr&gt; | platform_name &lt;chr&gt; | meta_score &lt;chr&gt; | user_score &lt;chr&gt; |\n",
       "|---|---|---|---|\n",
       "| The Legend of Zelda: Ocarina of Time | Nintendo 64   | 99 | 9.1 |\n",
       "| Tony Hawk's Pro Skater 2             | PlayStation   | 98 | 7.4 |\n",
       "| Grand Theft Auto IV                  | PlayStation 3 | 98 | 7.8 |\n",
       "| SoulCalibur                          | Dreamcast     | 98 | 8.4 |\n",
       "| Grand Theft Auto IV                  | Xbox 360      | 98 | 7.9 |\n",
       "| Super Mario Galaxy                   | Wii           | 97 | 9.1 |\n",
       "\n"
      ],
      "text/plain": [
       "  title                                platform_name meta_score user_score\n",
       "1 The Legend of Zelda: Ocarina of Time Nintendo 64   99         9.1       \n",
       "2 Tony Hawk's Pro Skater 2             PlayStation   98         7.4       \n",
       "3 Grand Theft Auto IV                  PlayStation 3 98         7.8       \n",
       "4 SoulCalibur                          Dreamcast     98         8.4       \n",
       "5 Grand Theft Auto IV                  Xbox 360      98         7.9       \n",
       "6 Super Mario Galaxy                   Wii           97         9.1       "
      ]
     },
     "metadata": {},
     "output_type": "display_data"
    }
   ],
   "source": [
    "# Creates a data frame containing the meta score and user score.\n",
    "# It is stored as all_games_scores.\n",
    "all_games_scores <- tibble(title = titles,\n",
    "                           platform_name = game_platform %>%\n",
    "                                       str_replace_all(\"[^[:alnum:]]\", \" \") %>% \n",
    "                                       trimws(\"both\"),\n",
    "                          meta_score = meta_score,\n",
    "                          user_score)\n",
    "all_games_scores %>% \n",
    "    head()"
   ]
  },
  {
   "cell_type": "markdown",
   "id": "478d4a20",
   "metadata": {},
   "source": [
    "> The created **all_games** data frame contains information about each game such as game title, platform name, release date, and description. The **all_games_scores** contains the `meta_score` and `user_score`. We converted the release date into `date` type and we also manipulated the platform name and description by removing special characters and whitespaces."
   ]
  },
  {
   "cell_type": "markdown",
   "id": "52b854c3",
   "metadata": {},
   "source": [
    "> The **all_games** relates to **all_games_scores** through `title` and **platforms** relate to **all_games_scores** through `platform_name`. This allows to uniquely identify the scores for specific game having multiple platform."
   ]
  },
  {
   "cell_type": "markdown",
   "id": "3b6edb6c",
   "metadata": {},
   "source": [
    "<h2>TASK (C) AUTOMATE IT</h2>"
   ]
  },
  {
   "cell_type": "code",
   "execution_count": 19,
   "id": "a1fcdf00",
   "metadata": {},
   "outputs": [],
   "source": [
    "# Helper function to to read in the content of the web page.\n",
    "read_page_content <- function(link) {\n",
    "  web_page_content <- link %>% \n",
    "    read_html()\n",
    "  \n",
    "  return(web_page_content)\n",
    "}"
   ]
  },
  {
   "cell_type": "code",
   "execution_count": 20,
   "id": "09b66f52",
   "metadata": {},
   "outputs": [],
   "source": [
    "# Helper function for cleaning the raw text (replacing special characters and trimming the whitespaces on both sides).\n",
    "clean_text <- function(raw_data) {\n",
    "  clean_data <- raw_data %>% \n",
    "    str_replace_all(\"[^[:alnum:]]\", \" \") %>% \n",
    "    trimws(\"both\")\n",
    "  \n",
    "  return(clean_data)\n",
    "}\n",
    "\n",
    "# Helper function to convert character date to actual date type.\n",
    "convert_date <- function(chr_date) {\n",
    "  converted_date <- as.Date(chr_date, format = \"%B %d, %Y\")\n",
    "  \n",
    "  return(converted_date)\n",
    "}"
   ]
  },
  {
   "cell_type": "code",
   "execution_count": 21,
   "id": "a2c77ac9",
   "metadata": {},
   "outputs": [],
   "source": [
    "# Helper function to get the title of the games.\n",
    "get_title <- function(data) {\n",
    "  title <- data %>%\n",
    "    html_nodes(\".clamp-summary-wrap > .title > h3\") %>% \n",
    "    html_text()\n",
    "  \n",
    "  return(title)\n",
    "}\n",
    "\n",
    "# Helper function to get the release date of the games.\n",
    "get_date <- function(data) {\n",
    "  date <- data %>%\n",
    "    html_nodes(\".clamp-details > span\") %>% \n",
    "    html_text()\n",
    "  \n",
    "  return(date)\n",
    "}\n",
    "\n",
    "# Helper function to get the platform the game is on.\n",
    "get_platform <- function(data) {\n",
    "  platform <- data %>%\n",
    "    html_nodes(\".platform > .data\") %>% \n",
    "    html_text()\n",
    "  \n",
    "  return(platform)\n",
    "}"
   ]
  },
  {
   "cell_type": "code",
   "execution_count": 49,
   "id": "524dd299",
   "metadata": {},
   "outputs": [],
   "source": [
    "# Helper function to get the description of the games.\n",
    "get_description <- function(data) {\n",
    "  description <- data %>%\n",
    "    html_nodes(\".summary\") %>% \n",
    "    html_text()\n",
    "  \n",
    "  return(description)\n",
    "}\n",
    "\n",
    "# Helper function to get the meta and user scores of the games.\n",
    "get_scores <- function(data) {\n",
    "  ms <- data %>%\n",
    "    html_nodes(\".clamp-metascore > a > div\") %>% \n",
    "    html_text()\n",
    "  \n",
    "  us <- data %>%\n",
    "    html_nodes(\".clamp-userscore > a > div\") %>% \n",
    "    html_text()\n",
    "    \n",
    "  stopifnot(ms != \"tbd\" | us != \"tbd\")\n",
    "    \n",
    "  return(tibble(ms = ms, us = us))\n",
    "}\n",
    "\n",
    "get_scores_safe <- purrr::possibly(.f = get_scores, otherwise = NA_integer_)"
   ]
  },
  {
   "cell_type": "code",
   "execution_count": 41,
   "id": "8c7794db",
   "metadata": {},
   "outputs": [],
   "source": [
    "# Data frame of links of the web pages we are interested in\n",
    "pages <- tibble(links = c(\"https://www.metacritic.com/browse/games/score/metascore/year/all/filtered\", \n",
    "                          \"https://www.metacritic.com/browse/games/score/metascore/90day/all/filtered\"))\n",
    "\n",
    "# Apply the read_page_content to all of the links in the data frame.\n",
    "# Modify the links variable to take the content of the html file of the games this year web page.\n",
    "pages <- pages %>% \n",
    "  mutate(links = map(links, read_page_content))"
   ]
  },
  {
   "cell_type": "markdown",
   "id": "3baf5733",
   "metadata": {},
   "source": [
    "<h3>Games This Year</h3>"
   ]
  },
  {
   "cell_type": "code",
   "execution_count": 54,
   "id": "0bf2fcd4",
   "metadata": {},
   "outputs": [
    {
     "data": {
      "text/html": [
       "<table class=\"dataframe\">\n",
       "<caption>A tibble: 6 × 6</caption>\n",
       "<thead>\n",
       "\t<tr><th scope=col>title</th><th scope=col>release_date</th><th scope=col>platform_name</th><th scope=col>game_descr</th><th scope=col>meta_score</th><th scope=col>user_score</th></tr>\n",
       "\t<tr><th scope=col>&lt;chr&gt;</th><th scope=col>&lt;date&gt;</th><th scope=col>&lt;chr&gt;</th><th scope=col>&lt;chr&gt;</th><th scope=col>&lt;chr&gt;</th><th scope=col>&lt;chr&gt;</th></tr>\n",
       "</thead>\n",
       "<tbody>\n",
       "\t<tr><td>Elden Ring                       </td><td>2022-02-25</td><td>Xbox Series X</td><td>A New World Created By Hidetaka Miyazaki And George R  R  Martin  ELDEN RING  developed by FromSoftware  Inc  and BANDAI NAMCO Entertainment Inc   is a fantasy action RPG adventure set within a world created by Hidetaka Miyazaki creator of the influential DARK SOULS video game series  and George R R  Martin author of The New York Times best selling fantasy series  A Song of Ice and Fire  Danger and discovery lurk around every corner in FromSoftware s largest game to date   Hidetaka Miyazaki  President and Game Director of FromSoftware Inc  Known for directing critically acclaimed games in beloved franchises including Armored Core  Dark Souls  and Sekiro  Shadows Die Twice   George R R  Martin is the  1 New York Times bestselling author of many novels  including the acclaimed series A Song of Ice and Fire   A Game of Thrones  A Clash of Kings  A Storm of Swords  A Feast For Crows  and A Dance with Dragons  As a writer producer  he has worked on The Twilight Zone  Beauty and the Beast  and various feature films and pilots that were never made</td><td>96</td><td>7.7</td></tr>\n",
       "\t<tr><td>Elden Ring                       </td><td>2022-02-25</td><td>PlayStation 5</td><td>A New World Created By Hidetaka Miyazaki And George R  R  Martin  ELDEN RING  developed by FromSoftware  Inc  and BANDAI NAMCO Entertainment Inc   is a fantasy action RPG adventure set within a world created by Hidetaka Miyazaki creator of the influential DARK SOULS video game series  and George R R  Martin author of The New York Times best selling fantasy series  A Song of Ice and Fire  Danger and discovery lurk around every corner in FromSoftware s largest game to date   Hidetaka Miyazaki  President and Game Director of FromSoftware Inc  Known for directing critically acclaimed games in beloved franchises including Armored Core  Dark Souls  and Sekiro  Shadows Die Twice   George R R  Martin is the  1 New York Times bestselling author of many novels  including the acclaimed series A Song of Ice and Fire   A Game of Thrones  A Clash of Kings  A Storm of Swords  A Feast For Crows  and A Dance with Dragons  As a writer producer  he has worked on The Twilight Zone  Beauty and the Beast  and various feature films and pilots that were never made</td><td>96</td><td>7.9</td></tr>\n",
       "\t<tr><td>Portal Companion Collection      </td><td>2022-06-28</td><td>Switch       </td><td>Including Portal and Portal 2  the Companion Collection comes to Nintendo Switch  with all the groundbreaking gameplay  dark humor  and exploration that earned the series hundreds of awards  In Portal  you ll use a highly experimental portal device to solve physical puzzles and challenges  Maneuver objects  and yourself  through space to puzzle your way through the mysterious Aperture Science Laboratories     Return to Aperture Laboratories in Portal 2 where you ll once again face off with the lethally inventive  power mad A I  named GLaDOS  Meet an expanded cast of characters as you think your way through dangerous  never before seen areas of the laboratories and a wider variety of portal puzzles  Plus Portal 2 also includes a co operative game mode with local  split screen and online multiplayer so you and a friend can think with portals                                                                                                                                                                                                             </td><td>96</td><td>8.3</td></tr>\n",
       "\t<tr><td>Elden Ring                       </td><td>2022-02-25</td><td>PC           </td><td>A New World Created By Hidetaka Miyazaki And George R  R  Martin  ELDEN RING  developed by FromSoftware  Inc  and BANDAI NAMCO Entertainment Inc   is a fantasy action RPG adventure set within a world created by Hidetaka Miyazaki creator of the influential DARK SOULS video game series  and George R R  Martin author of The New York Times best selling fantasy series  A Song of Ice and Fire  Danger and discovery lurk around every corner in FromSoftware s largest game to date   Hidetaka Miyazaki  President and Game Director of FromSoftware Inc  Known for directing critically acclaimed games in beloved franchises including Armored Core  Dark Souls  and Sekiro  Shadows Die Twice   George R R  Martin is the  1 New York Times bestselling author of many novels  including the acclaimed series A Song of Ice and Fire   A Game of Thrones  A Clash of Kings  A Storm of Swords  A Feast For Crows  and A Dance with Dragons  As a writer producer  he has worked on The Twilight Zone  Beauty and the Beast  and various feature films and pilots that were never made</td><td>94</td><td>6.9</td></tr>\n",
       "\t<tr><td>The Stanley Parable: Ultra Deluxe</td><td>2022-04-27</td><td>Xbox Series X</td><td>The Stanley Parable  Ultra Deluxe is an expanded re imagining of 2013 s The Stanley Parable  You will play as Stanley  and you will not play as Stanley  You will make a choice  and you will become powerless  You are not here to win  The Stanley Parable is a game that plays you                                                                                                                                                                                                                                                                                                                                                                                                                                                                                                                                                                                                                                                                                                                                                                                                           </td><td>93</td><td>8.4</td></tr>\n",
       "\t<tr><td>God of War                       </td><td>2022-01-14</td><td>PC           </td><td>The God of War has changed    and this is not the Kratos you know  A difficult and unfamiliar road awaits as you explore a stunning retelling of a classic story  Join Kratos as he adventures through a deep and reflective journey of growth  violence and the desire to become a better man for the sake of his son  In a world of monsters  dragons and gods  the weight of responsibility rests heavy on your shoulders    and when your life is filled with blood and chaos  how can you prevent the mistakes of the past in order to protect your future                                                                                                                                                                                                                                                                                                                                                                                                                                                                                                                                 </td><td>93</td><td>8.5</td></tr>\n",
       "</tbody>\n",
       "</table>\n"
      ],
      "text/latex": [
       "A tibble: 6 × 6\n",
       "\\begin{tabular}{llllll}\n",
       " title & release\\_date & platform\\_name & game\\_descr & meta\\_score & user\\_score\\\\\n",
       " <chr> & <date> & <chr> & <chr> & <chr> & <chr>\\\\\n",
       "\\hline\n",
       "\t Elden Ring                        & 2022-02-25 & Xbox Series X & A New World Created By Hidetaka Miyazaki And George R  R  Martin  ELDEN RING  developed by FromSoftware  Inc  and BANDAI NAMCO Entertainment Inc   is a fantasy action RPG adventure set within a world created by Hidetaka Miyazaki creator of the influential DARK SOULS video game series  and George R R  Martin author of The New York Times best selling fantasy series  A Song of Ice and Fire  Danger and discovery lurk around every corner in FromSoftware s largest game to date   Hidetaka Miyazaki  President and Game Director of FromSoftware Inc  Known for directing critically acclaimed games in beloved franchises including Armored Core  Dark Souls  and Sekiro  Shadows Die Twice   George R R  Martin is the  1 New York Times bestselling author of many novels  including the acclaimed series A Song of Ice and Fire   A Game of Thrones  A Clash of Kings  A Storm of Swords  A Feast For Crows  and A Dance with Dragons  As a writer producer  he has worked on The Twilight Zone  Beauty and the Beast  and various feature films and pilots that were never made & 96 & 7.7\\\\\n",
       "\t Elden Ring                        & 2022-02-25 & PlayStation 5 & A New World Created By Hidetaka Miyazaki And George R  R  Martin  ELDEN RING  developed by FromSoftware  Inc  and BANDAI NAMCO Entertainment Inc   is a fantasy action RPG adventure set within a world created by Hidetaka Miyazaki creator of the influential DARK SOULS video game series  and George R R  Martin author of The New York Times best selling fantasy series  A Song of Ice and Fire  Danger and discovery lurk around every corner in FromSoftware s largest game to date   Hidetaka Miyazaki  President and Game Director of FromSoftware Inc  Known for directing critically acclaimed games in beloved franchises including Armored Core  Dark Souls  and Sekiro  Shadows Die Twice   George R R  Martin is the  1 New York Times bestselling author of many novels  including the acclaimed series A Song of Ice and Fire   A Game of Thrones  A Clash of Kings  A Storm of Swords  A Feast For Crows  and A Dance with Dragons  As a writer producer  he has worked on The Twilight Zone  Beauty and the Beast  and various feature films and pilots that were never made & 96 & 7.9\\\\\n",
       "\t Portal Companion Collection       & 2022-06-28 & Switch        & Including Portal and Portal 2  the Companion Collection comes to Nintendo Switch  with all the groundbreaking gameplay  dark humor  and exploration that earned the series hundreds of awards  In Portal  you ll use a highly experimental portal device to solve physical puzzles and challenges  Maneuver objects  and yourself  through space to puzzle your way through the mysterious Aperture Science Laboratories     Return to Aperture Laboratories in Portal 2 where you ll once again face off with the lethally inventive  power mad A I  named GLaDOS  Meet an expanded cast of characters as you think your way through dangerous  never before seen areas of the laboratories and a wider variety of portal puzzles  Plus Portal 2 also includes a co operative game mode with local  split screen and online multiplayer so you and a friend can think with portals                                                                                                                                                                                                              & 96 & 8.3\\\\\n",
       "\t Elden Ring                        & 2022-02-25 & PC            & A New World Created By Hidetaka Miyazaki And George R  R  Martin  ELDEN RING  developed by FromSoftware  Inc  and BANDAI NAMCO Entertainment Inc   is a fantasy action RPG adventure set within a world created by Hidetaka Miyazaki creator of the influential DARK SOULS video game series  and George R R  Martin author of The New York Times best selling fantasy series  A Song of Ice and Fire  Danger and discovery lurk around every corner in FromSoftware s largest game to date   Hidetaka Miyazaki  President and Game Director of FromSoftware Inc  Known for directing critically acclaimed games in beloved franchises including Armored Core  Dark Souls  and Sekiro  Shadows Die Twice   George R R  Martin is the  1 New York Times bestselling author of many novels  including the acclaimed series A Song of Ice and Fire   A Game of Thrones  A Clash of Kings  A Storm of Swords  A Feast For Crows  and A Dance with Dragons  As a writer producer  he has worked on The Twilight Zone  Beauty and the Beast  and various feature films and pilots that were never made & 94 & 6.9\\\\\n",
       "\t The Stanley Parable: Ultra Deluxe & 2022-04-27 & Xbox Series X & The Stanley Parable  Ultra Deluxe is an expanded re imagining of 2013 s The Stanley Parable  You will play as Stanley  and you will not play as Stanley  You will make a choice  and you will become powerless  You are not here to win  The Stanley Parable is a game that plays you                                                                                                                                                                                                                                                                                                                                                                                                                                                                                                                                                                                                                                                                                                                                                                                                            & 93 & 8.4\\\\\n",
       "\t God of War                        & 2022-01-14 & PC            & The God of War has changed    and this is not the Kratos you know  A difficult and unfamiliar road awaits as you explore a stunning retelling of a classic story  Join Kratos as he adventures through a deep and reflective journey of growth  violence and the desire to become a better man for the sake of his son  In a world of monsters  dragons and gods  the weight of responsibility rests heavy on your shoulders    and when your life is filled with blood and chaos  how can you prevent the mistakes of the past in order to protect your future                                                                                                                                                                                                                                                                                                                                                                                                                                                                                                                                  & 93 & 8.5\\\\\n",
       "\\end{tabular}\n"
      ],
      "text/markdown": [
       "\n",
       "A tibble: 6 × 6\n",
       "\n",
       "| title &lt;chr&gt; | release_date &lt;date&gt; | platform_name &lt;chr&gt; | game_descr &lt;chr&gt; | meta_score &lt;chr&gt; | user_score &lt;chr&gt; |\n",
       "|---|---|---|---|---|---|\n",
       "| Elden Ring                        | 2022-02-25 | Xbox Series X | A New World Created By Hidetaka Miyazaki And George R  R  Martin  ELDEN RING  developed by FromSoftware  Inc  and BANDAI NAMCO Entertainment Inc   is a fantasy action RPG adventure set within a world created by Hidetaka Miyazaki creator of the influential DARK SOULS video game series  and George R R  Martin author of The New York Times best selling fantasy series  A Song of Ice and Fire  Danger and discovery lurk around every corner in FromSoftware s largest game to date   Hidetaka Miyazaki  President and Game Director of FromSoftware Inc  Known for directing critically acclaimed games in beloved franchises including Armored Core  Dark Souls  and Sekiro  Shadows Die Twice   George R R  Martin is the  1 New York Times bestselling author of many novels  including the acclaimed series A Song of Ice and Fire   A Game of Thrones  A Clash of Kings  A Storm of Swords  A Feast For Crows  and A Dance with Dragons  As a writer producer  he has worked on The Twilight Zone  Beauty and the Beast  and various feature films and pilots that were never made | 96 | 7.7 |\n",
       "| Elden Ring                        | 2022-02-25 | PlayStation 5 | A New World Created By Hidetaka Miyazaki And George R  R  Martin  ELDEN RING  developed by FromSoftware  Inc  and BANDAI NAMCO Entertainment Inc   is a fantasy action RPG adventure set within a world created by Hidetaka Miyazaki creator of the influential DARK SOULS video game series  and George R R  Martin author of The New York Times best selling fantasy series  A Song of Ice and Fire  Danger and discovery lurk around every corner in FromSoftware s largest game to date   Hidetaka Miyazaki  President and Game Director of FromSoftware Inc  Known for directing critically acclaimed games in beloved franchises including Armored Core  Dark Souls  and Sekiro  Shadows Die Twice   George R R  Martin is the  1 New York Times bestselling author of many novels  including the acclaimed series A Song of Ice and Fire   A Game of Thrones  A Clash of Kings  A Storm of Swords  A Feast For Crows  and A Dance with Dragons  As a writer producer  he has worked on The Twilight Zone  Beauty and the Beast  and various feature films and pilots that were never made | 96 | 7.9 |\n",
       "| Portal Companion Collection       | 2022-06-28 | Switch        | Including Portal and Portal 2  the Companion Collection comes to Nintendo Switch  with all the groundbreaking gameplay  dark humor  and exploration that earned the series hundreds of awards  In Portal  you ll use a highly experimental portal device to solve physical puzzles and challenges  Maneuver objects  and yourself  through space to puzzle your way through the mysterious Aperture Science Laboratories     Return to Aperture Laboratories in Portal 2 where you ll once again face off with the lethally inventive  power mad A I  named GLaDOS  Meet an expanded cast of characters as you think your way through dangerous  never before seen areas of the laboratories and a wider variety of portal puzzles  Plus Portal 2 also includes a co operative game mode with local  split screen and online multiplayer so you and a friend can think with portals                                                                                                                                                                                                              | 96 | 8.3 |\n",
       "| Elden Ring                        | 2022-02-25 | PC            | A New World Created By Hidetaka Miyazaki And George R  R  Martin  ELDEN RING  developed by FromSoftware  Inc  and BANDAI NAMCO Entertainment Inc   is a fantasy action RPG adventure set within a world created by Hidetaka Miyazaki creator of the influential DARK SOULS video game series  and George R R  Martin author of The New York Times best selling fantasy series  A Song of Ice and Fire  Danger and discovery lurk around every corner in FromSoftware s largest game to date   Hidetaka Miyazaki  President and Game Director of FromSoftware Inc  Known for directing critically acclaimed games in beloved franchises including Armored Core  Dark Souls  and Sekiro  Shadows Die Twice   George R R  Martin is the  1 New York Times bestselling author of many novels  including the acclaimed series A Song of Ice and Fire   A Game of Thrones  A Clash of Kings  A Storm of Swords  A Feast For Crows  and A Dance with Dragons  As a writer producer  he has worked on The Twilight Zone  Beauty and the Beast  and various feature films and pilots that were never made | 94 | 6.9 |\n",
       "| The Stanley Parable: Ultra Deluxe | 2022-04-27 | Xbox Series X | The Stanley Parable  Ultra Deluxe is an expanded re imagining of 2013 s The Stanley Parable  You will play as Stanley  and you will not play as Stanley  You will make a choice  and you will become powerless  You are not here to win  The Stanley Parable is a game that plays you                                                                                                                                                                                                                                                                                                                                                                                                                                                                                                                                                                                                                                                                                                                                                                                                            | 93 | 8.4 |\n",
       "| God of War                        | 2022-01-14 | PC            | The God of War has changed    and this is not the Kratos you know  A difficult and unfamiliar road awaits as you explore a stunning retelling of a classic story  Join Kratos as he adventures through a deep and reflective journey of growth  violence and the desire to become a better man for the sake of his son  In a world of monsters  dragons and gods  the weight of responsibility rests heavy on your shoulders    and when your life is filled with blood and chaos  how can you prevent the mistakes of the past in order to protect your future                                                                                                                                                                                                                                                                                                                                                                                                                                                                                                                                  | 93 | 8.5 |\n",
       "\n"
      ],
      "text/plain": [
       "  title                             release_date platform_name\n",
       "1 Elden Ring                        2022-02-25   Xbox Series X\n",
       "2 Elden Ring                        2022-02-25   PlayStation 5\n",
       "3 Portal Companion Collection       2022-06-28   Switch       \n",
       "4 Elden Ring                        2022-02-25   PC           \n",
       "5 The Stanley Parable: Ultra Deluxe 2022-04-27   Xbox Series X\n",
       "6 God of War                        2022-01-14   PC           \n",
       "  game_descr                                                                                                                                                                                                                                                                                                                                                                                                                                                                                                                                                                                                                                                                                                                                                                                                                                                                                                                                                                                                                                                                                      \n",
       "1 A New World Created By Hidetaka Miyazaki And George R  R  Martin  ELDEN RING  developed by FromSoftware  Inc  and BANDAI NAMCO Entertainment Inc   is a fantasy action RPG adventure set within a world created by Hidetaka Miyazaki creator of the influential DARK SOULS video game series  and George R R  Martin author of The New York Times best selling fantasy series  A Song of Ice and Fire  Danger and discovery lurk around every corner in FromSoftware s largest game to date   Hidetaka Miyazaki  President and Game Director of FromSoftware Inc  Known for directing critically acclaimed games in beloved franchises including Armored Core  Dark Souls  and Sekiro  Shadows Die Twice   George R R  Martin is the  1 New York Times bestselling author of many novels  including the acclaimed series A Song of Ice and Fire   A Game of Thrones  A Clash of Kings  A Storm of Swords  A Feast For Crows  and A Dance with Dragons  As a writer producer  he has worked on The Twilight Zone  Beauty and the Beast  and various feature films and pilots that were never made\n",
       "2 A New World Created By Hidetaka Miyazaki And George R  R  Martin  ELDEN RING  developed by FromSoftware  Inc  and BANDAI NAMCO Entertainment Inc   is a fantasy action RPG adventure set within a world created by Hidetaka Miyazaki creator of the influential DARK SOULS video game series  and George R R  Martin author of The New York Times best selling fantasy series  A Song of Ice and Fire  Danger and discovery lurk around every corner in FromSoftware s largest game to date   Hidetaka Miyazaki  President and Game Director of FromSoftware Inc  Known for directing critically acclaimed games in beloved franchises including Armored Core  Dark Souls  and Sekiro  Shadows Die Twice   George R R  Martin is the  1 New York Times bestselling author of many novels  including the acclaimed series A Song of Ice and Fire   A Game of Thrones  A Clash of Kings  A Storm of Swords  A Feast For Crows  and A Dance with Dragons  As a writer producer  he has worked on The Twilight Zone  Beauty and the Beast  and various feature films and pilots that were never made\n",
       "3 Including Portal and Portal 2  the Companion Collection comes to Nintendo Switch  with all the groundbreaking gameplay  dark humor  and exploration that earned the series hundreds of awards  In Portal  you ll use a highly experimental portal device to solve physical puzzles and challenges  Maneuver objects  and yourself  through space to puzzle your way through the mysterious Aperture Science Laboratories     Return to Aperture Laboratories in Portal 2 where you ll once again face off with the lethally inventive  power mad A I  named GLaDOS  Meet an expanded cast of characters as you think your way through dangerous  never before seen areas of the laboratories and a wider variety of portal puzzles  Plus Portal 2 also includes a co operative game mode with local  split screen and online multiplayer so you and a friend can think with portals                                                                                                                                                                                                             \n",
       "4 A New World Created By Hidetaka Miyazaki And George R  R  Martin  ELDEN RING  developed by FromSoftware  Inc  and BANDAI NAMCO Entertainment Inc   is a fantasy action RPG adventure set within a world created by Hidetaka Miyazaki creator of the influential DARK SOULS video game series  and George R R  Martin author of The New York Times best selling fantasy series  A Song of Ice and Fire  Danger and discovery lurk around every corner in FromSoftware s largest game to date   Hidetaka Miyazaki  President and Game Director of FromSoftware Inc  Known for directing critically acclaimed games in beloved franchises including Armored Core  Dark Souls  and Sekiro  Shadows Die Twice   George R R  Martin is the  1 New York Times bestselling author of many novels  including the acclaimed series A Song of Ice and Fire   A Game of Thrones  A Clash of Kings  A Storm of Swords  A Feast For Crows  and A Dance with Dragons  As a writer producer  he has worked on The Twilight Zone  Beauty and the Beast  and various feature films and pilots that were never made\n",
       "5 The Stanley Parable  Ultra Deluxe is an expanded re imagining of 2013 s The Stanley Parable  You will play as Stanley  and you will not play as Stanley  You will make a choice  and you will become powerless  You are not here to win  The Stanley Parable is a game that plays you                                                                                                                                                                                                                                                                                                                                                                                                                                                                                                                                                                                                                                                                                                                                                                                                           \n",
       "6 The God of War has changed    and this is not the Kratos you know  A difficult and unfamiliar road awaits as you explore a stunning retelling of a classic story  Join Kratos as he adventures through a deep and reflective journey of growth  violence and the desire to become a better man for the sake of his son  In a world of monsters  dragons and gods  the weight of responsibility rests heavy on your shoulders    and when your life is filled with blood and chaos  how can you prevent the mistakes of the past in order to protect your future                                                                                                                                                                                                                                                                                                                                                                                                                                                                                                                                 \n",
       "  meta_score user_score\n",
       "1 96         7.7       \n",
       "2 96         7.9       \n",
       "3 96         8.3       \n",
       "4 94         6.9       \n",
       "5 93         8.4       \n",
       "6 93         8.5       "
      ]
     },
     "metadata": {},
     "output_type": "display_data"
    }
   ],
   "source": [
    "# Take the content of the html file of the games this year web page.\n",
    "game_scores <- pages[[1]][[1]] %>% get_scores_safe()\n",
    "\n",
    "# Create a data frame with all of the information about the first 100 games listed under\n",
    "# games this year web page.\n",
    "games_this_year <- tibble(title = pages[[1]][[1]] %>% get_title(),\n",
    "                          release_date = pages[[1]][[1]] %>% get_date(),\n",
    "                          platform_name = pages[[1]][[1]] %>% get_platform(),\n",
    "                          game_descr = pages[[1]][[1]] %>% get_description(),\n",
    "                          meta_score = game_scores$ms,\n",
    "                          user_score = game_scores$us)\n",
    "\n",
    "# Modify the release_date by converting it to date type.\n",
    "# Modify the game_description and platform_name by removing special characters and whitespaces.\n",
    "games_this_year <- games_this_year %>% \n",
    "  mutate(release_date = release_date %>%\n",
    "                        convert_date,\n",
    "         game_descr = map_chr(game_descr, clean_text),\n",
    "         platform_name = map_chr(platform_name, clean_text))\n",
    "\n",
    "games_this_year %>% \n",
    "    head()"
   ]
  },
  {
   "cell_type": "markdown",
   "id": "3be927a1",
   "metadata": {},
   "source": [
    "<h3>New Games</h3>"
   ]
  },
  {
   "cell_type": "code",
   "execution_count": 58,
   "id": "33b71315",
   "metadata": {
    "scrolled": true
   },
   "outputs": [
    {
     "data": {
      "text/html": [
       "<table class=\"dataframe\">\n",
       "<caption>A tibble: 6 × 6</caption>\n",
       "<thead>\n",
       "\t<tr><th scope=col>title</th><th scope=col>release_date</th><th scope=col>platform_name</th><th scope=col>game_descr</th><th scope=col>meta_score</th><th scope=col>user_score</th></tr>\n",
       "\t<tr><th scope=col>&lt;chr&gt;</th><th scope=col>&lt;date&gt;</th><th scope=col>&lt;chr&gt;</th><th scope=col>&lt;chr&gt;</th><th scope=col>&lt;chr&gt;</th><th scope=col>&lt;chr&gt;</th></tr>\n",
       "</thead>\n",
       "<tbody>\n",
       "\t<tr><td>The Legend of Heroes: Trails from Zero   </td><td>2022-09-27</td><td>PC           </td><td>The Crossbell State  located in western Zemlya    Once the site of fierce territorial battles  it has since developed into one of the continent s leading trade and financial centers   However  pressure from the Erebonian Empire and the Calvard Republic is steadily increasing  While corrupt officials from both sides remain locked in political disputes  the mafia and underground criminal organizations are preparing to start a war   In the midst of all this chaos  the Crossbell Police Department has lost the trust of its people   Among them are Lloyd Bannings  a rookie agent  Elie MacDowell  granddaughter of Crossbell s mayor  Tio Plato  a young sorcereress who wields an orbal staff  and Randy Orlando  a former security guard   The foursome are assigned to a new department  the Special Support Section  where they are left with no choice but to join forces in the face of adversity   This is a story about four unlikely heroes fighting to overcome the walls defining their way of life                                                                                                                                                                                                                                                                                                                                                                                                                                                                                                         </td><td>90</td><td>8.4</td></tr>\n",
       "\t<tr><td>Xenoblade Chronicles 3                   </td><td>2022-07-29</td><td>Switch       </td><td>Fighting to liveand living to fight    A brand new RPG adventure awaits in Xenoblade Chronicles 3  Bringing together the futures of Xenoblade Chronicles and Xenoblade Chronicles 2  this title will take players to the world of Aionios  home to two hostile nations   Keves  a nation where mechanical technology was developed  Their armies are composed of units consisting mainly of combat vehicles  They use units of small  mobile weapons operated by soldiers riding them      Agnus  a nation strong in ether  a magical technology  Their forces are built around units that specialise in ether combat  and they fight with small  mobile  autonomous weapons that use ether technology      Six soldiers hailing from these nations  will take part in a grand tale with life as its central theme      Noah  One of the protagonists of Xenoblade Chronicles 3 and a solider of Keves  Noah is also an  off seer  who mourns for soldiers who ve lost their lives on the battlefield      Lanz  An ally of Noah s who wields a great sword that doubles as a shield      Eunie  A childhood friend of Noah and Lanz who has a sharp tongue and rough personality  She specialises in healing her allies in battle      Mio  The other protagonist of this story  Mio is a soldier of Agnus and an off seer like Noah      Taion  A tactician who fights alongside Mio using his smarts and insight      Sena  This soldier is an ally of Mio and Taion  Despite her petite figure  Sena wields immense physical strength</td><td>89</td><td>8.6</td></tr>\n",
       "\t<tr><td>Deathloop                                </td><td>2022-09-20</td><td>Xbox Series X</td><td>If at first you don t succeed Die  Die Again  From the team at Arkane Lyon comes an innovative take on first person action   DEATHLOOP  transports players to the lawless island of Blackreef in an eternal struggle between two extraordinary assassins  Explore stunning environments and meticulously designed levels in an immersive gameplay experience that lets you approach every situation any way you like  Hunt down targets all over the island in an effort to put an end to the cycle once and for all  and remember  if at first you don t succeed die  die again                                                                                                                                                                                                                                                                                                                                                                                                                                                                                                                                                                                                                                                                                                                                                                                                                                                                                                                                                         </td><td>89</td><td>6.9</td></tr>\n",
       "\t<tr><td>The Last of Us Part I                    </td><td>2022-09-02</td><td>PlayStation 5</td><td>In a ravaged civilization  where infected and hardened survivors run rampant  Joel  a weary protagonist  is hired to smuggle 14 year old Ellie out of a military quarantine zone  However  what starts as a small job soon transforms into a brutal cross country journey  Includes the complete The Last of Us single player story and celebrated prequel chapter  Left Behind  which explores the events that changed the lives of Ellie and her best friend Riley forever                                                                                                                                                                                                                                                                                                                                                                                                                                                                                                                                                                                                                                                                                                                                                                                                                                                                                                                                                                                                                                                             </td><td>89</td><td>6.0</td></tr>\n",
       "\t<tr><td>I Was a Teenage Exocolonist              </td><td>2022-08-25</td><td>PC           </td><td>Spend your teenage years on an alien planet in this narrative RPG with card based battles  Explore  grow up  and fall in love  The choices you make and skills you master over ten years will determine the course of your life and the survival of your colony                                                                                                                                                                                                                                                                                                                                                                                                                                                                                                                                                                                                                                                                                                                                                                                                                                                                                                                                                                                                                                                                                                                                                                                                                                                                          </td><td>89</td><td>8.3</td></tr>\n",
       "\t<tr><td>NieR: Automata - The End of YoRHa Edition</td><td>2022-10-06</td><td>Switch       </td><td>NieR Automata The End of YoRHa Edition is the Nintendo Switch  version of NieR Automata  an award winning post apocalyptic action RPG that has achieved deep rooted popularity around the world  The distant future  Invaders from another world attack without warning  unleashing a new type of threat  weapons known as  machine lifeforms   In the face of this insurmountable threat  mankind is driven from Earth and takes refuge on the Moon  As 2B  a member of the newly organized android military force YoRHa  players will immerse themselves in a ferocious battle to take back the planet     Experience a captivating story that goes beyond simple entertainment  inspiring a wide array of emotions as it unfolds through genre blending action in a beautifully desolate open world     This product includes the content of the  3C3C1D119440927  DLC    Three types of colosseums are included  and three types of costumes based on characters from the related title  NieR Replicant  can be obtained as rewards      To enjoy this content you will need to have progressed a certain way into the main story of the game  There are also some scenes during the progression of the main game scenario in which this content cannot be accessed                                                                                                                                                                                                                                                                  </td><td>88</td><td>8.4</td></tr>\n",
       "</tbody>\n",
       "</table>\n"
      ],
      "text/latex": [
       "A tibble: 6 × 6\n",
       "\\begin{tabular}{llllll}\n",
       " title & release\\_date & platform\\_name & game\\_descr & meta\\_score & user\\_score\\\\\n",
       " <chr> & <date> & <chr> & <chr> & <chr> & <chr>\\\\\n",
       "\\hline\n",
       "\t The Legend of Heroes: Trails from Zero    & 2022-09-27 & PC            & The Crossbell State  located in western Zemlya    Once the site of fierce territorial battles  it has since developed into one of the continent s leading trade and financial centers   However  pressure from the Erebonian Empire and the Calvard Republic is steadily increasing  While corrupt officials from both sides remain locked in political disputes  the mafia and underground criminal organizations are preparing to start a war   In the midst of all this chaos  the Crossbell Police Department has lost the trust of its people   Among them are Lloyd Bannings  a rookie agent  Elie MacDowell  granddaughter of Crossbell s mayor  Tio Plato  a young sorcereress who wields an orbal staff  and Randy Orlando  a former security guard   The foursome are assigned to a new department  the Special Support Section  where they are left with no choice but to join forces in the face of adversity   This is a story about four unlikely heroes fighting to overcome the walls defining their way of life                                                                                                                                                                                                                                                                                                                                                                                                                                                                                                          & 90 & 8.4\\\\\n",
       "\t Xenoblade Chronicles 3                    & 2022-07-29 & Switch        & Fighting to liveand living to fight    A brand new RPG adventure awaits in Xenoblade Chronicles 3  Bringing together the futures of Xenoblade Chronicles and Xenoblade Chronicles 2  this title will take players to the world of Aionios  home to two hostile nations   Keves  a nation where mechanical technology was developed  Their armies are composed of units consisting mainly of combat vehicles  They use units of small  mobile weapons operated by soldiers riding them      Agnus  a nation strong in ether  a magical technology  Their forces are built around units that specialise in ether combat  and they fight with small  mobile  autonomous weapons that use ether technology      Six soldiers hailing from these nations  will take part in a grand tale with life as its central theme      Noah  One of the protagonists of Xenoblade Chronicles 3 and a solider of Keves  Noah is also an  off seer  who mourns for soldiers who ve lost their lives on the battlefield      Lanz  An ally of Noah s who wields a great sword that doubles as a shield      Eunie  A childhood friend of Noah and Lanz who has a sharp tongue and rough personality  She specialises in healing her allies in battle      Mio  The other protagonist of this story  Mio is a soldier of Agnus and an off seer like Noah      Taion  A tactician who fights alongside Mio using his smarts and insight      Sena  This soldier is an ally of Mio and Taion  Despite her petite figure  Sena wields immense physical strength & 89 & 8.6\\\\\n",
       "\t Deathloop                                 & 2022-09-20 & Xbox Series X & If at first you don t succeed Die  Die Again  From the team at Arkane Lyon comes an innovative take on first person action   DEATHLOOP  transports players to the lawless island of Blackreef in an eternal struggle between two extraordinary assassins  Explore stunning environments and meticulously designed levels in an immersive gameplay experience that lets you approach every situation any way you like  Hunt down targets all over the island in an effort to put an end to the cycle once and for all  and remember  if at first you don t succeed die  die again                                                                                                                                                                                                                                                                                                                                                                                                                                                                                                                                                                                                                                                                                                                                                                                                                                                                                                                                                          & 89 & 6.9\\\\\n",
       "\t The Last of Us Part I                     & 2022-09-02 & PlayStation 5 & In a ravaged civilization  where infected and hardened survivors run rampant  Joel  a weary protagonist  is hired to smuggle 14 year old Ellie out of a military quarantine zone  However  what starts as a small job soon transforms into a brutal cross country journey  Includes the complete The Last of Us single player story and celebrated prequel chapter  Left Behind  which explores the events that changed the lives of Ellie and her best friend Riley forever                                                                                                                                                                                                                                                                                                                                                                                                                                                                                                                                                                                                                                                                                                                                                                                                                                                                                                                                                                                                                                                              & 89 & 6.0\\\\\n",
       "\t I Was a Teenage Exocolonist               & 2022-08-25 & PC            & Spend your teenage years on an alien planet in this narrative RPG with card based battles  Explore  grow up  and fall in love  The choices you make and skills you master over ten years will determine the course of your life and the survival of your colony                                                                                                                                                                                                                                                                                                                                                                                                                                                                                                                                                                                                                                                                                                                                                                                                                                                                                                                                                                                                                                                                                                                                                                                                                                                                           & 89 & 8.3\\\\\n",
       "\t NieR: Automata - The End of YoRHa Edition & 2022-10-06 & Switch        & NieR Automata The End of YoRHa Edition is the Nintendo Switch  version of NieR Automata  an award winning post apocalyptic action RPG that has achieved deep rooted popularity around the world  The distant future  Invaders from another world attack without warning  unleashing a new type of threat  weapons known as  machine lifeforms   In the face of this insurmountable threat  mankind is driven from Earth and takes refuge on the Moon  As 2B  a member of the newly organized android military force YoRHa  players will immerse themselves in a ferocious battle to take back the planet     Experience a captivating story that goes beyond simple entertainment  inspiring a wide array of emotions as it unfolds through genre blending action in a beautifully desolate open world     This product includes the content of the  3C3C1D119440927  DLC    Three types of colosseums are included  and three types of costumes based on characters from the related title  NieR Replicant  can be obtained as rewards      To enjoy this content you will need to have progressed a certain way into the main story of the game  There are also some scenes during the progression of the main game scenario in which this content cannot be accessed                                                                                                                                                                                                                                                                   & 88 & 8.4\\\\\n",
       "\\end{tabular}\n"
      ],
      "text/markdown": [
       "\n",
       "A tibble: 6 × 6\n",
       "\n",
       "| title &lt;chr&gt; | release_date &lt;date&gt; | platform_name &lt;chr&gt; | game_descr &lt;chr&gt; | meta_score &lt;chr&gt; | user_score &lt;chr&gt; |\n",
       "|---|---|---|---|---|---|\n",
       "| The Legend of Heroes: Trails from Zero    | 2022-09-27 | PC            | The Crossbell State  located in western Zemlya    Once the site of fierce territorial battles  it has since developed into one of the continent s leading trade and financial centers   However  pressure from the Erebonian Empire and the Calvard Republic is steadily increasing  While corrupt officials from both sides remain locked in political disputes  the mafia and underground criminal organizations are preparing to start a war   In the midst of all this chaos  the Crossbell Police Department has lost the trust of its people   Among them are Lloyd Bannings  a rookie agent  Elie MacDowell  granddaughter of Crossbell s mayor  Tio Plato  a young sorcereress who wields an orbal staff  and Randy Orlando  a former security guard   The foursome are assigned to a new department  the Special Support Section  where they are left with no choice but to join forces in the face of adversity   This is a story about four unlikely heroes fighting to overcome the walls defining their way of life                                                                                                                                                                                                                                                                                                                                                                                                                                                                                                          | 90 | 8.4 |\n",
       "| Xenoblade Chronicles 3                    | 2022-07-29 | Switch        | Fighting to liveand living to fight    A brand new RPG adventure awaits in Xenoblade Chronicles 3  Bringing together the futures of Xenoblade Chronicles and Xenoblade Chronicles 2  this title will take players to the world of Aionios  home to two hostile nations   Keves  a nation where mechanical technology was developed  Their armies are composed of units consisting mainly of combat vehicles  They use units of small  mobile weapons operated by soldiers riding them      Agnus  a nation strong in ether  a magical technology  Their forces are built around units that specialise in ether combat  and they fight with small  mobile  autonomous weapons that use ether technology      Six soldiers hailing from these nations  will take part in a grand tale with life as its central theme      Noah  One of the protagonists of Xenoblade Chronicles 3 and a solider of Keves  Noah is also an  off seer  who mourns for soldiers who ve lost their lives on the battlefield      Lanz  An ally of Noah s who wields a great sword that doubles as a shield      Eunie  A childhood friend of Noah and Lanz who has a sharp tongue and rough personality  She specialises in healing her allies in battle      Mio  The other protagonist of this story  Mio is a soldier of Agnus and an off seer like Noah      Taion  A tactician who fights alongside Mio using his smarts and insight      Sena  This soldier is an ally of Mio and Taion  Despite her petite figure  Sena wields immense physical strength | 89 | 8.6 |\n",
       "| Deathloop                                 | 2022-09-20 | Xbox Series X | If at first you don t succeed Die  Die Again  From the team at Arkane Lyon comes an innovative take on first person action   DEATHLOOP  transports players to the lawless island of Blackreef in an eternal struggle between two extraordinary assassins  Explore stunning environments and meticulously designed levels in an immersive gameplay experience that lets you approach every situation any way you like  Hunt down targets all over the island in an effort to put an end to the cycle once and for all  and remember  if at first you don t succeed die  die again                                                                                                                                                                                                                                                                                                                                                                                                                                                                                                                                                                                                                                                                                                                                                                                                                                                                                                                                                          | 89 | 6.9 |\n",
       "| The Last of Us Part I                     | 2022-09-02 | PlayStation 5 | In a ravaged civilization  where infected and hardened survivors run rampant  Joel  a weary protagonist  is hired to smuggle 14 year old Ellie out of a military quarantine zone  However  what starts as a small job soon transforms into a brutal cross country journey  Includes the complete The Last of Us single player story and celebrated prequel chapter  Left Behind  which explores the events that changed the lives of Ellie and her best friend Riley forever                                                                                                                                                                                                                                                                                                                                                                                                                                                                                                                                                                                                                                                                                                                                                                                                                                                                                                                                                                                                                                                              | 89 | 6.0 |\n",
       "| I Was a Teenage Exocolonist               | 2022-08-25 | PC            | Spend your teenage years on an alien planet in this narrative RPG with card based battles  Explore  grow up  and fall in love  The choices you make and skills you master over ten years will determine the course of your life and the survival of your colony                                                                                                                                                                                                                                                                                                                                                                                                                                                                                                                                                                                                                                                                                                                                                                                                                                                                                                                                                                                                                                                                                                                                                                                                                                                                           | 89 | 8.3 |\n",
       "| NieR: Automata - The End of YoRHa Edition | 2022-10-06 | Switch        | NieR Automata The End of YoRHa Edition is the Nintendo Switch  version of NieR Automata  an award winning post apocalyptic action RPG that has achieved deep rooted popularity around the world  The distant future  Invaders from another world attack without warning  unleashing a new type of threat  weapons known as  machine lifeforms   In the face of this insurmountable threat  mankind is driven from Earth and takes refuge on the Moon  As 2B  a member of the newly organized android military force YoRHa  players will immerse themselves in a ferocious battle to take back the planet     Experience a captivating story that goes beyond simple entertainment  inspiring a wide array of emotions as it unfolds through genre blending action in a beautifully desolate open world     This product includes the content of the  3C3C1D119440927  DLC    Three types of colosseums are included  and three types of costumes based on characters from the related title  NieR Replicant  can be obtained as rewards      To enjoy this content you will need to have progressed a certain way into the main story of the game  There are also some scenes during the progression of the main game scenario in which this content cannot be accessed                                                                                                                                                                                                                                                                   | 88 | 8.4 |\n",
       "\n"
      ],
      "text/plain": [
       "  title                                     release_date platform_name\n",
       "1 The Legend of Heroes: Trails from Zero    2022-09-27   PC           \n",
       "2 Xenoblade Chronicles 3                    2022-07-29   Switch       \n",
       "3 Deathloop                                 2022-09-20   Xbox Series X\n",
       "4 The Last of Us Part I                     2022-09-02   PlayStation 5\n",
       "5 I Was a Teenage Exocolonist               2022-08-25   PC           \n",
       "6 NieR: Automata - The End of YoRHa Edition 2022-10-06   Switch       \n",
       "  game_descr                                                                                                                                                                                                                                                                                                                                                                                                                                                                                                                                                                                                                                                                                                                                                                                                                                                                                                                                                                                                                                                                                                                                                                                                                                                                                                                                                                                                                                                                                                                               \n",
       "1 The Crossbell State  located in western Zemlya    Once the site of fierce territorial battles  it has since developed into one of the continent s leading trade and financial centers   However  pressure from the Erebonian Empire and the Calvard Republic is steadily increasing  While corrupt officials from both sides remain locked in political disputes  the mafia and underground criminal organizations are preparing to start a war   In the midst of all this chaos  the Crossbell Police Department has lost the trust of its people   Among them are Lloyd Bannings  a rookie agent  Elie MacDowell  granddaughter of Crossbell s mayor  Tio Plato  a young sorcereress who wields an orbal staff  and Randy Orlando  a former security guard   The foursome are assigned to a new department  the Special Support Section  where they are left with no choice but to join forces in the face of adversity   This is a story about four unlikely heroes fighting to overcome the walls defining their way of life                                                                                                                                                                                                                                                                                                                                                                                                                                                                                                         \n",
       "2 Fighting to liveand living to fight    A brand new RPG adventure awaits in Xenoblade Chronicles 3  Bringing together the futures of Xenoblade Chronicles and Xenoblade Chronicles 2  this title will take players to the world of Aionios  home to two hostile nations   Keves  a nation where mechanical technology was developed  Their armies are composed of units consisting mainly of combat vehicles  They use units of small  mobile weapons operated by soldiers riding them      Agnus  a nation strong in ether  a magical technology  Their forces are built around units that specialise in ether combat  and they fight with small  mobile  autonomous weapons that use ether technology      Six soldiers hailing from these nations  will take part in a grand tale with life as its central theme      Noah  One of the protagonists of Xenoblade Chronicles 3 and a solider of Keves  Noah is also an  off seer  who mourns for soldiers who ve lost their lives on the battlefield      Lanz  An ally of Noah s who wields a great sword that doubles as a shield      Eunie  A childhood friend of Noah and Lanz who has a sharp tongue and rough personality  She specialises in healing her allies in battle      Mio  The other protagonist of this story  Mio is a soldier of Agnus and an off seer like Noah      Taion  A tactician who fights alongside Mio using his smarts and insight      Sena  This soldier is an ally of Mio and Taion  Despite her petite figure  Sena wields immense physical strength\n",
       "3 If at first you don t succeed Die  Die Again  From the team at Arkane Lyon comes an innovative take on first person action   DEATHLOOP  transports players to the lawless island of Blackreef in an eternal struggle between two extraordinary assassins  Explore stunning environments and meticulously designed levels in an immersive gameplay experience that lets you approach every situation any way you like  Hunt down targets all over the island in an effort to put an end to the cycle once and for all  and remember  if at first you don t succeed die  die again                                                                                                                                                                                                                                                                                                                                                                                                                                                                                                                                                                                                                                                                                                                                                                                                                                                                                                                                                         \n",
       "4 In a ravaged civilization  where infected and hardened survivors run rampant  Joel  a weary protagonist  is hired to smuggle 14 year old Ellie out of a military quarantine zone  However  what starts as a small job soon transforms into a brutal cross country journey  Includes the complete The Last of Us single player story and celebrated prequel chapter  Left Behind  which explores the events that changed the lives of Ellie and her best friend Riley forever                                                                                                                                                                                                                                                                                                                                                                                                                                                                                                                                                                                                                                                                                                                                                                                                                                                                                                                                                                                                                                                             \n",
       "5 Spend your teenage years on an alien planet in this narrative RPG with card based battles  Explore  grow up  and fall in love  The choices you make and skills you master over ten years will determine the course of your life and the survival of your colony                                                                                                                                                                                                                                                                                                                                                                                                                                                                                                                                                                                                                                                                                                                                                                                                                                                                                                                                                                                                                                                                                                                                                                                                                                                                          \n",
       "6 NieR Automata The End of YoRHa Edition is the Nintendo Switch  version of NieR Automata  an award winning post apocalyptic action RPG that has achieved deep rooted popularity around the world  The distant future  Invaders from another world attack without warning  unleashing a new type of threat  weapons known as  machine lifeforms   In the face of this insurmountable threat  mankind is driven from Earth and takes refuge on the Moon  As 2B  a member of the newly organized android military force YoRHa  players will immerse themselves in a ferocious battle to take back the planet     Experience a captivating story that goes beyond simple entertainment  inspiring a wide array of emotions as it unfolds through genre blending action in a beautifully desolate open world     This product includes the content of the  3C3C1D119440927  DLC    Three types of colosseums are included  and three types of costumes based on characters from the related title  NieR Replicant  can be obtained as rewards      To enjoy this content you will need to have progressed a certain way into the main story of the game  There are also some scenes during the progression of the main game scenario in which this content cannot be accessed                                                                                                                                                                                                                                                                  \n",
       "  meta_score user_score\n",
       "1 90         8.4       \n",
       "2 89         8.6       \n",
       "3 89         6.9       \n",
       "4 89         6.0       \n",
       "5 89         8.3       \n",
       "6 88         8.4       "
      ]
     },
     "metadata": {},
     "output_type": "display_data"
    },
    {
     "name": "stdout",
     "output_type": "stream",
     "text": [
      "Rows: 100\n",
      "Columns: 6\n",
      "$ title         \u001b[3m\u001b[90m<chr>\u001b[39m\u001b[23m \"The Legend of Heroes: Trails from Zero\", \"Xenoblade Chr~\n",
      "$ release_date  \u001b[3m\u001b[90m<date>\u001b[39m\u001b[23m 2022-09-27, 2022-07-29, 2022-09-20, 2022-09-02, 2022-08~\n",
      "$ platform_name \u001b[3m\u001b[90m<chr>\u001b[39m\u001b[23m \"PC\", \"Switch\", \"Xbox Series X\", \"PlayStation 5\", \"PC\", ~\n",
      "$ game_descr    \u001b[3m\u001b[90m<chr>\u001b[39m\u001b[23m \"The Crossbell State  located in western Zemlya    Once ~\n",
      "$ meta_score    \u001b[3m\u001b[90m<chr>\u001b[39m\u001b[23m \"90\", \"89\", \"89\", \"89\", \"89\", \"88\", \"88\", \"88\", \"88\", \"8~\n",
      "$ user_score    \u001b[3m\u001b[90m<chr>\u001b[39m\u001b[23m \"8.4\", \"8.6\", \"6.9\", \"6.0\", \"8.3\", \"8.4\", \"7.0\", \"8.3\", ~\n"
     ]
    }
   ],
   "source": [
    "# Take the content of the html file of the new games page.\n",
    "game_scores <- pages[[1]][[2]] %>% get_scores_safe()\n",
    "\n",
    "# Create a data frame with all of the information about the first 100 games listed under\n",
    "# new games web page.\n",
    "new_games <- tibble(title = pages[[1]][[2]] %>% get_title(),\n",
    "                          release_date = pages[[1]][[2]] %>% get_date(),\n",
    "                          platform_name = pages[[1]][[2]] %>% get_platform(),\n",
    "                          game_descr = pages[[1]][[2]] %>% get_description(),\n",
    "                          meta_score = game_scores$ms,\n",
    "                          user_score = game_scores$us)\n",
    "\n",
    "# Modify the release_date by converting it to date type.\n",
    "# Modify the game_description and platform_name by removing special characters and whitespaces.\n",
    "new_games <- new_games %>% \n",
    "  mutate(release_date = release_date %>% \n",
    "                        convert_date(),\n",
    "         game_descr = map_chr(game_descr, clean_text),\n",
    "         platform_name = map_chr(platform_name, clean_text))\n",
    "\n",
    "new_games %>% \n",
    "    head()"
   ]
  },
  {
   "cell_type": "code",
   "execution_count": 57,
   "id": "7a4026fa",
   "metadata": {
    "scrolled": true
   },
   "outputs": [
    {
     "data": {
      "text/html": [
       "<table class=\"dataframe\">\n",
       "<caption>A tibble: 6 × 3</caption>\n",
       "<thead>\n",
       "\t<tr><th scope=col>game_title</th><th scope=col>release_date</th><th scope=col>description</th></tr>\n",
       "\t<tr><th scope=col>&lt;chr&gt;</th><th scope=col>&lt;date&gt;</th><th scope=col>&lt;chr&gt;</th></tr>\n",
       "</thead>\n",
       "<tbody>\n",
       "\t<tr><td>The Legend of Heroes: Trails from Zero   </td><td>2022-09-27</td><td>The Crossbell State  located in western Zemlya    Once the site of fierce territorial battles  it has since developed into one of the continent s leading trade and financial centers   However  pressure from the Erebonian Empire and the Calvard Republic is steadily increasing  While corrupt officials from both sides remain locked in political disputes  the mafia and underground criminal organizations are preparing to start a war   In the midst of all this chaos  the Crossbell Police Department has lost the trust of its people   Among them are Lloyd Bannings  a rookie agent  Elie MacDowell  granddaughter of Crossbell s mayor  Tio Plato  a young sorcereress who wields an orbal staff  and Randy Orlando  a former security guard   The foursome are assigned to a new department  the Special Support Section  where they are left with no choice but to join forces in the face of adversity   This is a story about four unlikely heroes fighting to overcome the walls defining their way of life                                                                                                                                                                                                                                                                                                                                                                                                                                                                                                         </td></tr>\n",
       "\t<tr><td>Xenoblade Chronicles 3                   </td><td>2022-07-29</td><td>Fighting to liveand living to fight    A brand new RPG adventure awaits in Xenoblade Chronicles 3  Bringing together the futures of Xenoblade Chronicles and Xenoblade Chronicles 2  this title will take players to the world of Aionios  home to two hostile nations   Keves  a nation where mechanical technology was developed  Their armies are composed of units consisting mainly of combat vehicles  They use units of small  mobile weapons operated by soldiers riding them      Agnus  a nation strong in ether  a magical technology  Their forces are built around units that specialise in ether combat  and they fight with small  mobile  autonomous weapons that use ether technology      Six soldiers hailing from these nations  will take part in a grand tale with life as its central theme      Noah  One of the protagonists of Xenoblade Chronicles 3 and a solider of Keves  Noah is also an  off seer  who mourns for soldiers who ve lost their lives on the battlefield      Lanz  An ally of Noah s who wields a great sword that doubles as a shield      Eunie  A childhood friend of Noah and Lanz who has a sharp tongue and rough personality  She specialises in healing her allies in battle      Mio  The other protagonist of this story  Mio is a soldier of Agnus and an off seer like Noah      Taion  A tactician who fights alongside Mio using his smarts and insight      Sena  This soldier is an ally of Mio and Taion  Despite her petite figure  Sena wields immense physical strength</td></tr>\n",
       "\t<tr><td>Deathloop                                </td><td>2022-09-20</td><td>If at first you don t succeed Die  Die Again  From the team at Arkane Lyon comes an innovative take on first person action   DEATHLOOP  transports players to the lawless island of Blackreef in an eternal struggle between two extraordinary assassins  Explore stunning environments and meticulously designed levels in an immersive gameplay experience that lets you approach every situation any way you like  Hunt down targets all over the island in an effort to put an end to the cycle once and for all  and remember  if at first you don t succeed die  die again                                                                                                                                                                                                                                                                                                                                                                                                                                                                                                                                                                                                                                                                                                                                                                                                                                                                                                                                                         </td></tr>\n",
       "\t<tr><td>The Last of Us Part I                    </td><td>2022-09-02</td><td>In a ravaged civilization  where infected and hardened survivors run rampant  Joel  a weary protagonist  is hired to smuggle 14 year old Ellie out of a military quarantine zone  However  what starts as a small job soon transforms into a brutal cross country journey  Includes the complete The Last of Us single player story and celebrated prequel chapter  Left Behind  which explores the events that changed the lives of Ellie and her best friend Riley forever                                                                                                                                                                                                                                                                                                                                                                                                                                                                                                                                                                                                                                                                                                                                                                                                                                                                                                                                                                                                                                                             </td></tr>\n",
       "\t<tr><td>I Was a Teenage Exocolonist              </td><td>2022-08-25</td><td>Spend your teenage years on an alien planet in this narrative RPG with card based battles  Explore  grow up  and fall in love  The choices you make and skills you master over ten years will determine the course of your life and the survival of your colony                                                                                                                                                                                                                                                                                                                                                                                                                                                                                                                                                                                                                                                                                                                                                                                                                                                                                                                                                                                                                                                                                                                                                                                                                                                                          </td></tr>\n",
       "\t<tr><td>NieR: Automata - The End of YoRHa Edition</td><td>2022-10-06</td><td>NieR Automata The End of YoRHa Edition is the Nintendo Switch  version of NieR Automata  an award winning post apocalyptic action RPG that has achieved deep rooted popularity around the world  The distant future  Invaders from another world attack without warning  unleashing a new type of threat  weapons known as  machine lifeforms   In the face of this insurmountable threat  mankind is driven from Earth and takes refuge on the Moon  As 2B  a member of the newly organized android military force YoRHa  players will immerse themselves in a ferocious battle to take back the planet     Experience a captivating story that goes beyond simple entertainment  inspiring a wide array of emotions as it unfolds through genre blending action in a beautifully desolate open world     This product includes the content of the  3C3C1D119440927  DLC    Three types of colosseums are included  and three types of costumes based on characters from the related title  NieR Replicant  can be obtained as rewards      To enjoy this content you will need to have progressed a certain way into the main story of the game  There are also some scenes during the progression of the main game scenario in which this content cannot be accessed                                                                                                                                                                                                                                                                  </td></tr>\n",
       "</tbody>\n",
       "</table>\n"
      ],
      "text/latex": [
       "A tibble: 6 × 3\n",
       "\\begin{tabular}{lll}\n",
       " game\\_title & release\\_date & description\\\\\n",
       " <chr> & <date> & <chr>\\\\\n",
       "\\hline\n",
       "\t The Legend of Heroes: Trails from Zero    & 2022-09-27 & The Crossbell State  located in western Zemlya    Once the site of fierce territorial battles  it has since developed into one of the continent s leading trade and financial centers   However  pressure from the Erebonian Empire and the Calvard Republic is steadily increasing  While corrupt officials from both sides remain locked in political disputes  the mafia and underground criminal organizations are preparing to start a war   In the midst of all this chaos  the Crossbell Police Department has lost the trust of its people   Among them are Lloyd Bannings  a rookie agent  Elie MacDowell  granddaughter of Crossbell s mayor  Tio Plato  a young sorcereress who wields an orbal staff  and Randy Orlando  a former security guard   The foursome are assigned to a new department  the Special Support Section  where they are left with no choice but to join forces in the face of adversity   This is a story about four unlikely heroes fighting to overcome the walls defining their way of life                                                                                                                                                                                                                                                                                                                                                                                                                                                                                                         \\\\\n",
       "\t Xenoblade Chronicles 3                    & 2022-07-29 & Fighting to liveand living to fight    A brand new RPG adventure awaits in Xenoblade Chronicles 3  Bringing together the futures of Xenoblade Chronicles and Xenoblade Chronicles 2  this title will take players to the world of Aionios  home to two hostile nations   Keves  a nation where mechanical technology was developed  Their armies are composed of units consisting mainly of combat vehicles  They use units of small  mobile weapons operated by soldiers riding them      Agnus  a nation strong in ether  a magical technology  Their forces are built around units that specialise in ether combat  and they fight with small  mobile  autonomous weapons that use ether technology      Six soldiers hailing from these nations  will take part in a grand tale with life as its central theme      Noah  One of the protagonists of Xenoblade Chronicles 3 and a solider of Keves  Noah is also an  off seer  who mourns for soldiers who ve lost their lives on the battlefield      Lanz  An ally of Noah s who wields a great sword that doubles as a shield      Eunie  A childhood friend of Noah and Lanz who has a sharp tongue and rough personality  She specialises in healing her allies in battle      Mio  The other protagonist of this story  Mio is a soldier of Agnus and an off seer like Noah      Taion  A tactician who fights alongside Mio using his smarts and insight      Sena  This soldier is an ally of Mio and Taion  Despite her petite figure  Sena wields immense physical strength\\\\\n",
       "\t Deathloop                                 & 2022-09-20 & If at first you don t succeed Die  Die Again  From the team at Arkane Lyon comes an innovative take on first person action   DEATHLOOP  transports players to the lawless island of Blackreef in an eternal struggle between two extraordinary assassins  Explore stunning environments and meticulously designed levels in an immersive gameplay experience that lets you approach every situation any way you like  Hunt down targets all over the island in an effort to put an end to the cycle once and for all  and remember  if at first you don t succeed die  die again                                                                                                                                                                                                                                                                                                                                                                                                                                                                                                                                                                                                                                                                                                                                                                                                                                                                                                                                                         \\\\\n",
       "\t The Last of Us Part I                     & 2022-09-02 & In a ravaged civilization  where infected and hardened survivors run rampant  Joel  a weary protagonist  is hired to smuggle 14 year old Ellie out of a military quarantine zone  However  what starts as a small job soon transforms into a brutal cross country journey  Includes the complete The Last of Us single player story and celebrated prequel chapter  Left Behind  which explores the events that changed the lives of Ellie and her best friend Riley forever                                                                                                                                                                                                                                                                                                                                                                                                                                                                                                                                                                                                                                                                                                                                                                                                                                                                                                                                                                                                                                                             \\\\\n",
       "\t I Was a Teenage Exocolonist               & 2022-08-25 & Spend your teenage years on an alien planet in this narrative RPG with card based battles  Explore  grow up  and fall in love  The choices you make and skills you master over ten years will determine the course of your life and the survival of your colony                                                                                                                                                                                                                                                                                                                                                                                                                                                                                                                                                                                                                                                                                                                                                                                                                                                                                                                                                                                                                                                                                                                                                                                                                                                                          \\\\\n",
       "\t NieR: Automata - The End of YoRHa Edition & 2022-10-06 & NieR Automata The End of YoRHa Edition is the Nintendo Switch  version of NieR Automata  an award winning post apocalyptic action RPG that has achieved deep rooted popularity around the world  The distant future  Invaders from another world attack without warning  unleashing a new type of threat  weapons known as  machine lifeforms   In the face of this insurmountable threat  mankind is driven from Earth and takes refuge on the Moon  As 2B  a member of the newly organized android military force YoRHa  players will immerse themselves in a ferocious battle to take back the planet     Experience a captivating story that goes beyond simple entertainment  inspiring a wide array of emotions as it unfolds through genre blending action in a beautifully desolate open world     This product includes the content of the  3C3C1D119440927  DLC    Three types of colosseums are included  and three types of costumes based on characters from the related title  NieR Replicant  can be obtained as rewards      To enjoy this content you will need to have progressed a certain way into the main story of the game  There are also some scenes during the progression of the main game scenario in which this content cannot be accessed                                                                                                                                                                                                                                                                  \\\\\n",
       "\\end{tabular}\n"
      ],
      "text/markdown": [
       "\n",
       "A tibble: 6 × 3\n",
       "\n",
       "| game_title &lt;chr&gt; | release_date &lt;date&gt; | description &lt;chr&gt; |\n",
       "|---|---|---|\n",
       "| The Legend of Heroes: Trails from Zero    | 2022-09-27 | The Crossbell State  located in western Zemlya    Once the site of fierce territorial battles  it has since developed into one of the continent s leading trade and financial centers   However  pressure from the Erebonian Empire and the Calvard Republic is steadily increasing  While corrupt officials from both sides remain locked in political disputes  the mafia and underground criminal organizations are preparing to start a war   In the midst of all this chaos  the Crossbell Police Department has lost the trust of its people   Among them are Lloyd Bannings  a rookie agent  Elie MacDowell  granddaughter of Crossbell s mayor  Tio Plato  a young sorcereress who wields an orbal staff  and Randy Orlando  a former security guard   The foursome are assigned to a new department  the Special Support Section  where they are left with no choice but to join forces in the face of adversity   This is a story about four unlikely heroes fighting to overcome the walls defining their way of life                                                                                                                                                                                                                                                                                                                                                                                                                                                                                                          |\n",
       "| Xenoblade Chronicles 3                    | 2022-07-29 | Fighting to liveand living to fight    A brand new RPG adventure awaits in Xenoblade Chronicles 3  Bringing together the futures of Xenoblade Chronicles and Xenoblade Chronicles 2  this title will take players to the world of Aionios  home to two hostile nations   Keves  a nation where mechanical technology was developed  Their armies are composed of units consisting mainly of combat vehicles  They use units of small  mobile weapons operated by soldiers riding them      Agnus  a nation strong in ether  a magical technology  Their forces are built around units that specialise in ether combat  and they fight with small  mobile  autonomous weapons that use ether technology      Six soldiers hailing from these nations  will take part in a grand tale with life as its central theme      Noah  One of the protagonists of Xenoblade Chronicles 3 and a solider of Keves  Noah is also an  off seer  who mourns for soldiers who ve lost their lives on the battlefield      Lanz  An ally of Noah s who wields a great sword that doubles as a shield      Eunie  A childhood friend of Noah and Lanz who has a sharp tongue and rough personality  She specialises in healing her allies in battle      Mio  The other protagonist of this story  Mio is a soldier of Agnus and an off seer like Noah      Taion  A tactician who fights alongside Mio using his smarts and insight      Sena  This soldier is an ally of Mio and Taion  Despite her petite figure  Sena wields immense physical strength |\n",
       "| Deathloop                                 | 2022-09-20 | If at first you don t succeed Die  Die Again  From the team at Arkane Lyon comes an innovative take on first person action   DEATHLOOP  transports players to the lawless island of Blackreef in an eternal struggle between two extraordinary assassins  Explore stunning environments and meticulously designed levels in an immersive gameplay experience that lets you approach every situation any way you like  Hunt down targets all over the island in an effort to put an end to the cycle once and for all  and remember  if at first you don t succeed die  die again                                                                                                                                                                                                                                                                                                                                                                                                                                                                                                                                                                                                                                                                                                                                                                                                                                                                                                                                                          |\n",
       "| The Last of Us Part I                     | 2022-09-02 | In a ravaged civilization  where infected and hardened survivors run rampant  Joel  a weary protagonist  is hired to smuggle 14 year old Ellie out of a military quarantine zone  However  what starts as a small job soon transforms into a brutal cross country journey  Includes the complete The Last of Us single player story and celebrated prequel chapter  Left Behind  which explores the events that changed the lives of Ellie and her best friend Riley forever                                                                                                                                                                                                                                                                                                                                                                                                                                                                                                                                                                                                                                                                                                                                                                                                                                                                                                                                                                                                                                                              |\n",
       "| I Was a Teenage Exocolonist               | 2022-08-25 | Spend your teenage years on an alien planet in this narrative RPG with card based battles  Explore  grow up  and fall in love  The choices you make and skills you master over ten years will determine the course of your life and the survival of your colony                                                                                                                                                                                                                                                                                                                                                                                                                                                                                                                                                                                                                                                                                                                                                                                                                                                                                                                                                                                                                                                                                                                                                                                                                                                                           |\n",
       "| NieR: Automata - The End of YoRHa Edition | 2022-10-06 | NieR Automata The End of YoRHa Edition is the Nintendo Switch  version of NieR Automata  an award winning post apocalyptic action RPG that has achieved deep rooted popularity around the world  The distant future  Invaders from another world attack without warning  unleashing a new type of threat  weapons known as  machine lifeforms   In the face of this insurmountable threat  mankind is driven from Earth and takes refuge on the Moon  As 2B  a member of the newly organized android military force YoRHa  players will immerse themselves in a ferocious battle to take back the planet     Experience a captivating story that goes beyond simple entertainment  inspiring a wide array of emotions as it unfolds through genre blending action in a beautifully desolate open world     This product includes the content of the  3C3C1D119440927  DLC    Three types of colosseums are included  and three types of costumes based on characters from the related title  NieR Replicant  can be obtained as rewards      To enjoy this content you will need to have progressed a certain way into the main story of the game  There are also some scenes during the progression of the main game scenario in which this content cannot be accessed                                                                                                                                                                                                                                                                   |\n",
       "\n"
      ],
      "text/plain": [
       "  game_title                                release_date\n",
       "1 The Legend of Heroes: Trails from Zero    2022-09-27  \n",
       "2 Xenoblade Chronicles 3                    2022-07-29  \n",
       "3 Deathloop                                 2022-09-20  \n",
       "4 The Last of Us Part I                     2022-09-02  \n",
       "5 I Was a Teenage Exocolonist               2022-08-25  \n",
       "6 NieR: Automata - The End of YoRHa Edition 2022-10-06  \n",
       "  description                                                                                                                                                                                                                                                                                                                                                                                                                                                                                                                                                                                                                                                                                                                                                                                                                                                                                                                                                                                                                                                                                                                                                                                                                                                                                                                                                                                                                                                                                                                              \n",
       "1 The Crossbell State  located in western Zemlya    Once the site of fierce territorial battles  it has since developed into one of the continent s leading trade and financial centers   However  pressure from the Erebonian Empire and the Calvard Republic is steadily increasing  While corrupt officials from both sides remain locked in political disputes  the mafia and underground criminal organizations are preparing to start a war   In the midst of all this chaos  the Crossbell Police Department has lost the trust of its people   Among them are Lloyd Bannings  a rookie agent  Elie MacDowell  granddaughter of Crossbell s mayor  Tio Plato  a young sorcereress who wields an orbal staff  and Randy Orlando  a former security guard   The foursome are assigned to a new department  the Special Support Section  where they are left with no choice but to join forces in the face of adversity   This is a story about four unlikely heroes fighting to overcome the walls defining their way of life                                                                                                                                                                                                                                                                                                                                                                                                                                                                                                         \n",
       "2 Fighting to liveand living to fight    A brand new RPG adventure awaits in Xenoblade Chronicles 3  Bringing together the futures of Xenoblade Chronicles and Xenoblade Chronicles 2  this title will take players to the world of Aionios  home to two hostile nations   Keves  a nation where mechanical technology was developed  Their armies are composed of units consisting mainly of combat vehicles  They use units of small  mobile weapons operated by soldiers riding them      Agnus  a nation strong in ether  a magical technology  Their forces are built around units that specialise in ether combat  and they fight with small  mobile  autonomous weapons that use ether technology      Six soldiers hailing from these nations  will take part in a grand tale with life as its central theme      Noah  One of the protagonists of Xenoblade Chronicles 3 and a solider of Keves  Noah is also an  off seer  who mourns for soldiers who ve lost their lives on the battlefield      Lanz  An ally of Noah s who wields a great sword that doubles as a shield      Eunie  A childhood friend of Noah and Lanz who has a sharp tongue and rough personality  She specialises in healing her allies in battle      Mio  The other protagonist of this story  Mio is a soldier of Agnus and an off seer like Noah      Taion  A tactician who fights alongside Mio using his smarts and insight      Sena  This soldier is an ally of Mio and Taion  Despite her petite figure  Sena wields immense physical strength\n",
       "3 If at first you don t succeed Die  Die Again  From the team at Arkane Lyon comes an innovative take on first person action   DEATHLOOP  transports players to the lawless island of Blackreef in an eternal struggle between two extraordinary assassins  Explore stunning environments and meticulously designed levels in an immersive gameplay experience that lets you approach every situation any way you like  Hunt down targets all over the island in an effort to put an end to the cycle once and for all  and remember  if at first you don t succeed die  die again                                                                                                                                                                                                                                                                                                                                                                                                                                                                                                                                                                                                                                                                                                                                                                                                                                                                                                                                                         \n",
       "4 In a ravaged civilization  where infected and hardened survivors run rampant  Joel  a weary protagonist  is hired to smuggle 14 year old Ellie out of a military quarantine zone  However  what starts as a small job soon transforms into a brutal cross country journey  Includes the complete The Last of Us single player story and celebrated prequel chapter  Left Behind  which explores the events that changed the lives of Ellie and her best friend Riley forever                                                                                                                                                                                                                                                                                                                                                                                                                                                                                                                                                                                                                                                                                                                                                                                                                                                                                                                                                                                                                                                             \n",
       "5 Spend your teenage years on an alien planet in this narrative RPG with card based battles  Explore  grow up  and fall in love  The choices you make and skills you master over ten years will determine the course of your life and the survival of your colony                                                                                                                                                                                                                                                                                                                                                                                                                                                                                                                                                                                                                                                                                                                                                                                                                                                                                                                                                                                                                                                                                                                                                                                                                                                                          \n",
       "6 NieR Automata The End of YoRHa Edition is the Nintendo Switch  version of NieR Automata  an award winning post apocalyptic action RPG that has achieved deep rooted popularity around the world  The distant future  Invaders from another world attack without warning  unleashing a new type of threat  weapons known as  machine lifeforms   In the face of this insurmountable threat  mankind is driven from Earth and takes refuge on the Moon  As 2B  a member of the newly organized android military force YoRHa  players will immerse themselves in a ferocious battle to take back the planet     Experience a captivating story that goes beyond simple entertainment  inspiring a wide array of emotions as it unfolds through genre blending action in a beautifully desolate open world     This product includes the content of the  3C3C1D119440927  DLC    Three types of colosseums are included  and three types of costumes based on characters from the related title  NieR Replicant  can be obtained as rewards      To enjoy this content you will need to have progressed a certain way into the main story of the game  There are also some scenes during the progression of the main game scenario in which this content cannot be accessed                                                                                                                                                                                                                                                                  "
      ]
     },
     "metadata": {},
     "output_type": "display_data"
    },
    {
     "name": "stdout",
     "output_type": "stream",
     "text": [
      "Rows: 100\n",
      "Columns: 3\n",
      "$ game_title   \u001b[3m\u001b[90m<chr>\u001b[39m\u001b[23m \"The Legend of Heroes: Trails from Zero\", \"Xenoblade Chro~\n",
      "$ release_date \u001b[3m\u001b[90m<date>\u001b[39m\u001b[23m 2022-09-27, 2022-07-29, 2022-09-20, 2022-09-02, 2022-08-~\n",
      "$ description  \u001b[3m\u001b[90m<chr>\u001b[39m\u001b[23m \"The Crossbell State  located in western Zemlya    Once t~\n"
     ]
    }
   ],
   "source": [
    "# Creates a data frame containing the title of the game, release date, and description.\n",
    "# Then displays the first six rows.\n",
    "new_video_games <- tibble(game_title = new_games$title,\n",
    "           release_date = new_games$release_date,\n",
    "           description = new_games$game_descr)\n",
    "\n",
    "new_video_games %>% \n",
    "    head()"
   ]
  },
  {
   "cell_type": "code",
   "execution_count": 27,
   "id": "091c3cda",
   "metadata": {},
   "outputs": [
    {
     "data": {
      "text/html": [
       "<table class=\"dataframe\">\n",
       "<caption>A tibble: 6 × 1</caption>\n",
       "<thead>\n",
       "\t<tr><th scope=col>game_platform</th></tr>\n",
       "\t<tr><th scope=col>&lt;chr&gt;</th></tr>\n",
       "</thead>\n",
       "<tbody>\n",
       "\t<tr><td>PC           </td></tr>\n",
       "\t<tr><td>Switch       </td></tr>\n",
       "\t<tr><td>Xbox Series X</td></tr>\n",
       "\t<tr><td>PlayStation 5</td></tr>\n",
       "\t<tr><td>PlayStation 4</td></tr>\n",
       "\t<tr><td>Xbox One     </td></tr>\n",
       "</tbody>\n",
       "</table>\n"
      ],
      "text/latex": [
       "A tibble: 6 × 1\n",
       "\\begin{tabular}{l}\n",
       " game\\_platform\\\\\n",
       " <chr>\\\\\n",
       "\\hline\n",
       "\t PC           \\\\\n",
       "\t Switch       \\\\\n",
       "\t Xbox Series X\\\\\n",
       "\t PlayStation 5\\\\\n",
       "\t PlayStation 4\\\\\n",
       "\t Xbox One     \\\\\n",
       "\\end{tabular}\n"
      ],
      "text/markdown": [
       "\n",
       "A tibble: 6 × 1\n",
       "\n",
       "| game_platform &lt;chr&gt; |\n",
       "|---|\n",
       "| PC            |\n",
       "| Switch        |\n",
       "| Xbox Series X |\n",
       "| PlayStation 5 |\n",
       "| PlayStation 4 |\n",
       "| Xbox One      |\n",
       "\n"
      ],
      "text/plain": [
       "  game_platform\n",
       "1 PC           \n",
       "2 Switch       \n",
       "3 Xbox Series X\n",
       "4 PlayStation 5\n",
       "5 PlayStation 4\n",
       "6 Xbox One     "
      ]
     },
     "metadata": {},
     "output_type": "display_data"
    }
   ],
   "source": [
    "Select one of this pages# Creates a data frame containing the platforms.\n",
    "platforms <- tibble(game_platform = new_games$platform_name %>% \n",
    "                           unique())\n",
    "\n",
    "platforms"
   ]
  },
  {
   "cell_type": "code",
   "execution_count": 28,
   "id": "0179497d",
   "metadata": {
    "scrolled": true
   },
   "outputs": [
    {
     "data": {
      "text/html": [
       "<table class=\"dataframe\">\n",
       "<caption>A tibble: 6 × 4</caption>\n",
       "<thead>\n",
       "\t<tr><th scope=col>game_title</th><th scope=col>game_platform</th><th scope=col>critics_score</th><th scope=col>users_score</th></tr>\n",
       "\t<tr><th scope=col>&lt;chr&gt;</th><th scope=col>&lt;chr&gt;</th><th scope=col>&lt;chr&gt;</th><th scope=col>&lt;chr&gt;</th></tr>\n",
       "</thead>\n",
       "<tbody>\n",
       "\t<tr><td>The Legend of Heroes: Trails from Zero   </td><td>PC           </td><td>90</td><td>8.4</td></tr>\n",
       "\t<tr><td>Xenoblade Chronicles 3                   </td><td>Switch       </td><td>89</td><td>8.6</td></tr>\n",
       "\t<tr><td>Deathloop                                </td><td>Xbox Series X</td><td>89</td><td>6.9</td></tr>\n",
       "\t<tr><td>The Last of Us Part I                    </td><td>PlayStation 5</td><td>89</td><td>6.0</td></tr>\n",
       "\t<tr><td>I Was a Teenage Exocolonist              </td><td>PC           </td><td>89</td><td>8.3</td></tr>\n",
       "\t<tr><td>NieR: Automata - The End of YoRHa Edition</td><td>Switch       </td><td>88</td><td>8.4</td></tr>\n",
       "</tbody>\n",
       "</table>\n"
      ],
      "text/latex": [
       "A tibble: 6 × 4\n",
       "\\begin{tabular}{llll}\n",
       " game\\_title & game\\_platform & critics\\_score & users\\_score\\\\\n",
       " <chr> & <chr> & <chr> & <chr>\\\\\n",
       "\\hline\n",
       "\t The Legend of Heroes: Trails from Zero    & PC            & 90 & 8.4\\\\\n",
       "\t Xenoblade Chronicles 3                    & Switch        & 89 & 8.6\\\\\n",
       "\t Deathloop                                 & Xbox Series X & 89 & 6.9\\\\\n",
       "\t The Last of Us Part I                     & PlayStation 5 & 89 & 6.0\\\\\n",
       "\t I Was a Teenage Exocolonist               & PC            & 89 & 8.3\\\\\n",
       "\t NieR: Automata - The End of YoRHa Edition & Switch        & 88 & 8.4\\\\\n",
       "\\end{tabular}\n"
      ],
      "text/markdown": [
       "\n",
       "A tibble: 6 × 4\n",
       "\n",
       "| game_title &lt;chr&gt; | game_platform &lt;chr&gt; | critics_score &lt;chr&gt; | users_score &lt;chr&gt; |\n",
       "|---|---|---|---|\n",
       "| The Legend of Heroes: Trails from Zero    | PC            | 90 | 8.4 |\n",
       "| Xenoblade Chronicles 3                    | Switch        | 89 | 8.6 |\n",
       "| Deathloop                                 | Xbox Series X | 89 | 6.9 |\n",
       "| The Last of Us Part I                     | PlayStation 5 | 89 | 6.0 |\n",
       "| I Was a Teenage Exocolonist               | PC            | 89 | 8.3 |\n",
       "| NieR: Automata - The End of YoRHa Edition | Switch        | 88 | 8.4 |\n",
       "\n"
      ],
      "text/plain": [
       "  game_title                                game_platform critics_score\n",
       "1 The Legend of Heroes: Trails from Zero    PC            90           \n",
       "2 Xenoblade Chronicles 3                    Switch        89           \n",
       "3 Deathloop                                 Xbox Series X 89           \n",
       "4 The Last of Us Part I                     PlayStation 5 89           \n",
       "5 I Was a Teenage Exocolonist               PC            89           \n",
       "6 NieR: Automata - The End of YoRHa Edition Switch        88           \n",
       "  users_score\n",
       "1 8.4        \n",
       "2 8.6        \n",
       "3 6.9        \n",
       "4 6.0        \n",
       "5 8.3        \n",
       "6 8.4        "
      ]
     },
     "metadata": {},
     "output_type": "display_data"
    }
   ],
   "source": [
    "Select one of this pages# Creates a data frame containing the title of the game, platform, critics and user scores.\n",
    "# Then displays the first six rows.\n",
    "scores <- tibble(game_title = new_games$title,\n",
    "                 game_platform = new_games$platform_name,\n",
    "                 critics_score = new_games$meta_score,\n",
    "                 users_score = new_games$user_score)\n",
    "\n",
    "scores %>% \n",
    "    head()"
   ]
  },
  {
   "cell_type": "code",
   "execution_count": 38,
   "id": "e5257a06",
   "metadata": {},
   "outputs": [
    {
     "data": {
      "text/html": [
       "<table class=\"dataframe\">\n",
       "<caption>A tibble: 2 × 6</caption>\n",
       "<thead>\n",
       "\t<tr><th scope=col>title</th><th scope=col>release_date</th><th scope=col>platform_name</th><th scope=col>game_descr</th><th scope=col>meta_score</th><th scope=col>user_score</th></tr>\n",
       "\t<tr><th scope=col>&lt;chr&gt;</th><th scope=col>&lt;date&gt;</th><th scope=col>&lt;chr&gt;</th><th scope=col>&lt;chr&gt;</th><th scope=col>&lt;chr&gt;</th><th scope=col>&lt;chr&gt;</th></tr>\n",
       "</thead>\n",
       "<tbody>\n",
       "\t<tr><td>Immortality</td><td>2022-08-30</td><td>Xbox Series X</td><td>Marissa Marcel was a film star  She made three movies  But none of the movies was ever released  And Marissa Marcel disappeared  An interactive trilogy from Sam Barlow  creator of Her Story</td><td>88</td><td>7.0</td></tr>\n",
       "\t<tr><td>Immortality</td><td>2022-08-30</td><td>PC           </td><td>Marissa Marcel was a film star  She made three movies  But none of the movies was ever released  And Marissa Marcel disappeared  An interactive trilogy from Sam Barlow  creator of Her Story</td><td>88</td><td>6.4</td></tr>\n",
       "</tbody>\n",
       "</table>\n"
      ],
      "text/latex": [
       "A tibble: 2 × 6\n",
       "\\begin{tabular}{llllll}\n",
       " title & release\\_date & platform\\_name & game\\_descr & meta\\_score & user\\_score\\\\\n",
       " <chr> & <date> & <chr> & <chr> & <chr> & <chr>\\\\\n",
       "\\hline\n",
       "\t Immortality & 2022-08-30 & Xbox Series X & Marissa Marcel was a film star  She made three movies  But none of the movies was ever released  And Marissa Marcel disappeared  An interactive trilogy from Sam Barlow  creator of Her Story & 88 & 7.0\\\\\n",
       "\t Immortality & 2022-08-30 & PC            & Marissa Marcel was a film star  She made three movies  But none of the movies was ever released  And Marissa Marcel disappeared  An interactive trilogy from Sam Barlow  creator of Her Story & 88 & 6.4\\\\\n",
       "\\end{tabular}\n"
      ],
      "text/markdown": [
       "\n",
       "A tibble: 2 × 6\n",
       "\n",
       "| title &lt;chr&gt; | release_date &lt;date&gt; | platform_name &lt;chr&gt; | game_descr &lt;chr&gt; | meta_score &lt;chr&gt; | user_score &lt;chr&gt; |\n",
       "|---|---|---|---|---|---|\n",
       "| Immortality | 2022-08-30 | Xbox Series X | Marissa Marcel was a film star  She made three movies  But none of the movies was ever released  And Marissa Marcel disappeared  An interactive trilogy from Sam Barlow  creator of Her Story | 88 | 7.0 |\n",
       "| Immortality | 2022-08-30 | PC            | Marissa Marcel was a film star  She made three movies  But none of the movies was ever released  And Marissa Marcel disappeared  An interactive trilogy from Sam Barlow  creator of Her Story | 88 | 6.4 |\n",
       "\n"
      ],
      "text/plain": [
       "  title       release_date platform_name\n",
       "1 Immortality 2022-08-30   Xbox Series X\n",
       "2 Immortality 2022-08-30   PC           \n",
       "  game_descr                                                                                                                                                                                   \n",
       "1 Marissa Marcel was a film star  She made three movies  But none of the movies was ever released  And Marissa Marcel disappeared  An interactive trilogy from Sam Barlow  creator of Her Story\n",
       "2 Marissa Marcel was a film star  She made three movies  But none of the movies was ever released  And Marissa Marcel disappeared  An interactive trilogy from Sam Barlow  creator of Her Story\n",
       "  meta_score user_score\n",
       "1 88         7.0       \n",
       "2 88         6.4       "
      ]
     },
     "metadata": {},
     "output_type": "display_data"
    }
   ],
   "source": [
    "new_games %>% \n",
    "    filter(str_detect(title, \"ImmortalitySelect one of this pages\"))"
   ]
  },
  {
   "cell_type": "markdown",
   "id": "cca9d307",
   "metadata": {},
   "source": [
    "<h2>TASK (D) PLOT IT</h2>"
   ]
  },
  {
   "cell_type": "code",
   "execution_count": 64,
   "id": "2ca611f4",
   "metadata": {},
   "outputs": [
    {
     "data": {
      "image/png": "[encoded data removed]",
      "text/plain": [
       "plot without title"
      ]
     },
     "metadata": {
      "image/png": {
       "height": 600,
       "width": 600
      }
     },
     "output_type": "display_data"
    }
   ],
   "source": [
    "options(repr.plot.width = 10, repr.plot.height = 10)\n",
    "new_games %>% \n",
    "    filter(release_date >= as.Date(\"2022-09-01\"), release_date <= Sys.Date()) %>% \n",
    "    group_by(platform_name) %>% \n",
    "    tally() %>% \n",
    "    ggplot(aes(x=\"\", y=n, fill = platform_name)) +\n",
    "    geom_bar(stat=\"identity\", width=1, color=\"white\") +\n",
    "    coord_polar(\"y\", start=0) +\n",
    "    theme_void()"
   ]
  },
  {
   "cell_type": "code",
   "execution_count": null,
   "id": "b4e8ab85",
   "metadata": {},
   "outputs": [],
   "source": []
  }
 ],
 "metadata": {
  "kernelspec": {
   "display_name": "R",
   "language": "R",
   "name": "ir"
  },
  "language_info": {
   "codemirror_mode": "r",
   "file_extension": ".r",
   "mimetype": "text/x-r-source",
   "name": "R",
   "pygments_lexer": "r",
   "version": "4.2.1"
  }
 },
 "nbformat": 4,
 "nbformat_minor": 5
}
